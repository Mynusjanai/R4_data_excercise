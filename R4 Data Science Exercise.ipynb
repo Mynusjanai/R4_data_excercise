{
 "cells": [
  {
   "cell_type": "code",
   "execution_count": 63,
   "id": "7d8f48ae",
   "metadata": {
    "ExecuteTime": {
     "end_time": "2021-06-04T21:43:35.708082Z",
     "start_time": "2021-06-04T21:43:35.688162Z"
    }
   },
   "outputs": [],
   "source": [
    "# Imports\n",
    "\n",
    "# Primary Imports\n",
    "import pandas as pd\n",
    "import numpy as np\n",
    "import matplotlib.pyplot as plt\n",
    "import plotly.express as px\n",
    "import seaborn as sns\n",
    "import warnings\n",
    "import datetime\n",
    "\n",
    "# Dependency Imports\n",
    "from mpl_toolkits import mplot3d\n",
    "from mpl_toolkits.mplot3d import Axes3D\n",
    "from collections import Counter\n",
    "\n",
    "# Script Imports\n",
    "%matplotlib inline\n",
    "warnings.filterwarnings('ignore')\n",
    "pd.options.display.max_columns = 100\n",
    "pd.options.display.max_colwidth = 100"
   ]
  },
  {
   "cell_type": "markdown",
   "id": "a5f5e4c3",
   "metadata": {},
   "source": [
    "# R4 Data Science Exercise\n",
    "Author: Chaz Frazer"
   ]
  },
  {
   "cell_type": "markdown",
   "id": "2d41164b",
   "metadata": {},
   "source": [
    "## Scope"
   ]
  },
  {
   "cell_type": "markdown",
   "id": "0c00930c",
   "metadata": {},
   "source": [
    "#### Data Columns:\n",
    "1. ID (user ID)\n",
    "2. First_Play_Date (date user first used service)\n",
    "3. Play_Date (date of play/stream)\n",
    "4. Genre (genre of portal being played)"
   ]
  },
  {
   "cell_type": "markdown",
   "id": "332355f8",
   "metadata": {},
   "source": [
    "### Questions"
   ]
  },
  {
   "cell_type": "markdown",
   "id": "064f241c",
   "metadata": {},
   "source": [
    "#### Question A:\n",
    "What are some of the first things you notice about this data set? What is in it?\n",
    "- Rows contain user IDs containing the first initial play date, as well as each subsequent client access of the service. We can see that there are 2798 unique user IDs using the service.\n",
    "- 6 unique genres of:\n",
    "    - Bullseye (1183 appearances, 435 unique IDs)\n",
    "    - Discovery (105489 appearences, 2519 unique IDs)\n",
    "    - Fingerprint (21802 appearences, 1959 unique IDs)\t\n",
    "    - Mashboard (2339 appearences, 592 unique IDs)\n",
    "    - Product (2711 appearences, 451 unique IDs)\n",
    "    - Spider (1426 appearences,\t609 unique IDs)\n",
    "- User ID (WMT-eb43dc75-8c60-487c-9615-4e750042a0e3-26930-7f412b5358c1bbab7a1b8356f2794c7ee30fc26) has the highest number of games, having played Discovery 1077 times."
   ]
  },
  {
   "cell_type": "markdown",
   "id": "bd21386d",
   "metadata": {},
   "source": [
    "#### Question B:\n",
    "Using this data, please answer the question-  does genre usage shift week-to-week (relative to when a user first used the service)?  For example, are users more likely to play Fingerprint during week one of their subscription, but then Mashboard during week 2 and 3? \n",
    "- Users are most likely to start off with Discovery, then in week 2 move on to Fingerprint in leading up to and during week 2. After week 2, Discovery plays drop off sharply, while Fingerprint playthroughs taper off slightly. Other game genres mostly hold steady throughout the subsequent weeks."
   ]
  },
  {
   "cell_type": "markdown",
   "id": "72a8e385",
   "metadata": {},
   "source": [
    "#### Question C:\n",
    "How would you improve the service by improving customer engagement? \n",
    "- Provide incentives for playthoughs of each genre, specific to the game. For example: create leaderboards, viewable stat data of their closest peers, discord servers for game genres where a community can grow; including developer interaction, and in-game challenges that reap trophies or awards specific to gameplay tasks."
   ]
  },
  {
   "cell_type": "markdown",
   "id": "95d938f0",
   "metadata": {},
   "source": [
    "## Data Import & Cleaning"
   ]
  },
  {
   "cell_type": "code",
   "execution_count": 32,
   "id": "8b503a2a",
   "metadata": {
    "ExecuteTime": {
     "end_time": "2021-06-04T21:11:23.323734Z",
     "start_time": "2021-06-04T21:11:23.048040Z"
    },
    "scrolled": true
   },
   "outputs": [],
   "source": [
    "# Read in Dataframe\n",
    "r4 = pd.read_csv('data/r4_data_exercise.csv')"
   ]
  },
  {
   "cell_type": "code",
   "execution_count": 33,
   "id": "870d4244",
   "metadata": {
    "ExecuteTime": {
     "end_time": "2021-06-04T21:11:23.448275Z",
     "start_time": "2021-06-04T21:11:23.430349Z"
    },
    "scrolled": true
   },
   "outputs": [
    {
     "data": {
      "text/html": [
       "<div>\n",
       "<style scoped>\n",
       "    .dataframe tbody tr th:only-of-type {\n",
       "        vertical-align: middle;\n",
       "    }\n",
       "\n",
       "    .dataframe tbody tr th {\n",
       "        vertical-align: top;\n",
       "    }\n",
       "\n",
       "    .dataframe thead th {\n",
       "        text-align: right;\n",
       "    }\n",
       "</style>\n",
       "<table border=\"1\" class=\"dataframe\">\n",
       "  <thead>\n",
       "    <tr style=\"text-align: right;\">\n",
       "      <th></th>\n",
       "      <th>ID</th>\n",
       "      <th>First_Play_Date</th>\n",
       "      <th>Play_Date</th>\n",
       "      <th>Genre</th>\n",
       "      <th>Unnamed: 4</th>\n",
       "      <th>Unnamed: 5</th>\n",
       "      <th>Unnamed: 6</th>\n",
       "      <th>Unnamed: 7</th>\n",
       "      <th>Unnamed: 8</th>\n",
       "    </tr>\n",
       "  </thead>\n",
       "  <tbody>\n",
       "    <tr>\n",
       "      <th>0</th>\n",
       "      <td>ASP-122a358d-be37-49bf-98ea-402ccfe33898-26768...</td>\n",
       "      <td>08Jan2015</td>\n",
       "      <td>08Jan2015</td>\n",
       "      <td>Discovery</td>\n",
       "      <td>NaN</td>\n",
       "      <td>NaN</td>\n",
       "      <td>NaN</td>\n",
       "      <td>NaN</td>\n",
       "      <td>NaN</td>\n",
       "    </tr>\n",
       "    <tr>\n",
       "      <th>1</th>\n",
       "      <td>ASP-122a358d-be37-49bf-98ea-402ccfe33898-26768...</td>\n",
       "      <td>08Jan2015</td>\n",
       "      <td>08Jan2015</td>\n",
       "      <td>Discovery</td>\n",
       "      <td>NaN</td>\n",
       "      <td>NaN</td>\n",
       "      <td>NaN</td>\n",
       "      <td>NaN</td>\n",
       "      <td>NaN</td>\n",
       "    </tr>\n",
       "    <tr>\n",
       "      <th>2</th>\n",
       "      <td>ASP-122a358d-be37-49bf-98ea-402ccfe33898-26768...</td>\n",
       "      <td>08Jan2015</td>\n",
       "      <td>08Jan2015</td>\n",
       "      <td>Discovery</td>\n",
       "      <td>NaN</td>\n",
       "      <td>NaN</td>\n",
       "      <td>NaN</td>\n",
       "      <td>NaN</td>\n",
       "      <td>NaN</td>\n",
       "    </tr>\n",
       "    <tr>\n",
       "      <th>3</th>\n",
       "      <td>ASP-122a358d-be37-49bf-98ea-402ccfe33898-26768...</td>\n",
       "      <td>08Jan2015</td>\n",
       "      <td>08Jan2015</td>\n",
       "      <td>Discovery</td>\n",
       "      <td>NaN</td>\n",
       "      <td>NaN</td>\n",
       "      <td>NaN</td>\n",
       "      <td>NaN</td>\n",
       "      <td>NaN</td>\n",
       "    </tr>\n",
       "    <tr>\n",
       "      <th>4</th>\n",
       "      <td>ASP-122a358d-be37-49bf-98ea-402ccfe33898-26768...</td>\n",
       "      <td>08Jan2015</td>\n",
       "      <td>08Jan2015</td>\n",
       "      <td>Discovery</td>\n",
       "      <td>NaN</td>\n",
       "      <td>NaN</td>\n",
       "      <td>NaN</td>\n",
       "      <td>NaN</td>\n",
       "      <td>NaN</td>\n",
       "    </tr>\n",
       "    <tr>\n",
       "      <th>5</th>\n",
       "      <td>ASP-122a358d-be37-49bf-98ea-402ccfe33898-26768...</td>\n",
       "      <td>08Jan2015</td>\n",
       "      <td>08Jan2015</td>\n",
       "      <td>Discovery</td>\n",
       "      <td>NaN</td>\n",
       "      <td>NaN</td>\n",
       "      <td>NaN</td>\n",
       "      <td>NaN</td>\n",
       "      <td>NaN</td>\n",
       "    </tr>\n",
       "    <tr>\n",
       "      <th>6</th>\n",
       "      <td>ASP-122a358d-be37-49bf-98ea-402ccfe33898-26768...</td>\n",
       "      <td>08Jan2015</td>\n",
       "      <td>08Jan2015</td>\n",
       "      <td>Discovery</td>\n",
       "      <td>NaN</td>\n",
       "      <td>NaN</td>\n",
       "      <td>NaN</td>\n",
       "      <td>NaN</td>\n",
       "      <td>NaN</td>\n",
       "    </tr>\n",
       "    <tr>\n",
       "      <th>7</th>\n",
       "      <td>ASP-122a358d-be37-49bf-98ea-402ccfe33898-26768...</td>\n",
       "      <td>08Jan2015</td>\n",
       "      <td>08Jan2015</td>\n",
       "      <td>Discovery</td>\n",
       "      <td>NaN</td>\n",
       "      <td>NaN</td>\n",
       "      <td>NaN</td>\n",
       "      <td>NaN</td>\n",
       "      <td>NaN</td>\n",
       "    </tr>\n",
       "    <tr>\n",
       "      <th>8</th>\n",
       "      <td>ASP-122a358d-be37-49bf-98ea-402ccfe33898-26768...</td>\n",
       "      <td>08Jan2015</td>\n",
       "      <td>08Jan2015</td>\n",
       "      <td>Discovery</td>\n",
       "      <td>NaN</td>\n",
       "      <td>NaN</td>\n",
       "      <td>NaN</td>\n",
       "      <td>NaN</td>\n",
       "      <td>NaN</td>\n",
       "    </tr>\n",
       "    <tr>\n",
       "      <th>9</th>\n",
       "      <td>ASP-122a358d-be37-49bf-98ea-402ccfe33898-26768...</td>\n",
       "      <td>08Jan2015</td>\n",
       "      <td>08Jan2015</td>\n",
       "      <td>Discovery</td>\n",
       "      <td>NaN</td>\n",
       "      <td>NaN</td>\n",
       "      <td>NaN</td>\n",
       "      <td>NaN</td>\n",
       "      <td>NaN</td>\n",
       "    </tr>\n",
       "  </tbody>\n",
       "</table>\n",
       "</div>"
      ],
      "text/plain": [
       "                                                  ID First_Play_Date  \\\n",
       "0  ASP-122a358d-be37-49bf-98ea-402ccfe33898-26768...       08Jan2015   \n",
       "1  ASP-122a358d-be37-49bf-98ea-402ccfe33898-26768...       08Jan2015   \n",
       "2  ASP-122a358d-be37-49bf-98ea-402ccfe33898-26768...       08Jan2015   \n",
       "3  ASP-122a358d-be37-49bf-98ea-402ccfe33898-26768...       08Jan2015   \n",
       "4  ASP-122a358d-be37-49bf-98ea-402ccfe33898-26768...       08Jan2015   \n",
       "5  ASP-122a358d-be37-49bf-98ea-402ccfe33898-26768...       08Jan2015   \n",
       "6  ASP-122a358d-be37-49bf-98ea-402ccfe33898-26768...       08Jan2015   \n",
       "7  ASP-122a358d-be37-49bf-98ea-402ccfe33898-26768...       08Jan2015   \n",
       "8  ASP-122a358d-be37-49bf-98ea-402ccfe33898-26768...       08Jan2015   \n",
       "9  ASP-122a358d-be37-49bf-98ea-402ccfe33898-26768...       08Jan2015   \n",
       "\n",
       "   Play_Date      Genre  Unnamed: 4  Unnamed: 5  Unnamed: 6  Unnamed: 7  \\\n",
       "0  08Jan2015  Discovery         NaN         NaN         NaN         NaN   \n",
       "1  08Jan2015  Discovery         NaN         NaN         NaN         NaN   \n",
       "2  08Jan2015  Discovery         NaN         NaN         NaN         NaN   \n",
       "3  08Jan2015  Discovery         NaN         NaN         NaN         NaN   \n",
       "4  08Jan2015  Discovery         NaN         NaN         NaN         NaN   \n",
       "5  08Jan2015  Discovery         NaN         NaN         NaN         NaN   \n",
       "6  08Jan2015  Discovery         NaN         NaN         NaN         NaN   \n",
       "7  08Jan2015  Discovery         NaN         NaN         NaN         NaN   \n",
       "8  08Jan2015  Discovery         NaN         NaN         NaN         NaN   \n",
       "9  08Jan2015  Discovery         NaN         NaN         NaN         NaN   \n",
       "\n",
       "   Unnamed: 8  \n",
       "0         NaN  \n",
       "1         NaN  \n",
       "2         NaN  \n",
       "3         NaN  \n",
       "4         NaN  \n",
       "5         NaN  \n",
       "6         NaN  \n",
       "7         NaN  \n",
       "8         NaN  \n",
       "9         NaN  "
      ]
     },
     "execution_count": 33,
     "metadata": {},
     "output_type": "execute_result"
    }
   ],
   "source": [
    "r4.head(10)"
   ]
  },
  {
   "cell_type": "code",
   "execution_count": 34,
   "id": "d3751055",
   "metadata": {
    "ExecuteTime": {
     "end_time": "2021-06-04T21:11:23.885025Z",
     "start_time": "2021-06-04T21:11:23.873029Z"
    },
    "scrolled": true
   },
   "outputs": [
    {
     "data": {
      "text/plain": [
       "ID                  object\n",
       "First_Play_Date     object\n",
       "Play_Date           object\n",
       "Genre               object\n",
       "Unnamed: 4         float64\n",
       "Unnamed: 5         float64\n",
       "Unnamed: 6         float64\n",
       "Unnamed: 7         float64\n",
       "Unnamed: 8         float64\n",
       "dtype: object"
      ]
     },
     "execution_count": 34,
     "metadata": {},
     "output_type": "execute_result"
    }
   ],
   "source": [
    "# Checking data types of the dataframe\n",
    "r4.dtypes"
   ]
  },
  {
   "cell_type": "code",
   "execution_count": 35,
   "id": "b2ae03d5",
   "metadata": {
    "ExecuteTime": {
     "end_time": "2021-06-04T21:11:24.787614Z",
     "start_time": "2021-06-04T21:11:24.705339Z"
    }
   },
   "outputs": [],
   "source": [
    "# Dropping unused columns and NaN values\n",
    "r4.drop(['Unnamed: 4', 'Unnamed: 5', 'Unnamed: 6', 'Unnamed: 7', 'Unnamed: 8'], axis = 1, inplace = True)\n",
    "r4.dropna(inplace = True)"
   ]
  },
  {
   "cell_type": "code",
   "execution_count": 42,
   "id": "cf141879",
   "metadata": {
    "ExecuteTime": {
     "end_time": "2021-06-04T21:15:03.003755Z",
     "start_time": "2021-06-04T21:15:02.772268Z"
    }
   },
   "outputs": [
    {
     "name": "stdout",
     "output_type": "stream",
     "text": [
      "<class 'pandas.core.frame.DataFrame'>\n",
      "Int64Index: 134950 entries, 0 to 134949\n",
      "Data columns (total 4 columns):\n",
      " #   Column           Non-Null Count   Dtype \n",
      "---  ------           --------------   ----- \n",
      " 0   ID               134950 non-null  object\n",
      " 1   First_Play_Date  134950 non-null  object\n",
      " 2   Play_Date        134950 non-null  object\n",
      " 3   Genre            134950 non-null  object\n",
      "dtypes: object(4)\n",
      "memory usage: 5.1+ MB\n"
     ]
    }
   ],
   "source": [
    "# Confirming the shape of our dataframe and that there are no more NaN values\n",
    "r4.info()"
   ]
  },
  {
   "cell_type": "code",
   "execution_count": 44,
   "id": "8e64644a",
   "metadata": {
    "ExecuteTime": {
     "end_time": "2021-06-04T21:18:27.352371Z",
     "start_time": "2021-06-04T21:18:27.081105Z"
    }
   },
   "outputs": [
    {
     "name": "stdout",
     "output_type": "stream",
     "text": [
      "<class 'pandas.core.frame.DataFrame'>\n",
      "Int64Index: 134950 entries, 0 to 134949\n",
      "Data columns (total 4 columns):\n",
      " #   Column           Non-Null Count   Dtype         \n",
      "---  ------           --------------   -----         \n",
      " 0   ID               134950 non-null  object        \n",
      " 1   First_Play_Date  134950 non-null  datetime64[ns]\n",
      " 2   Play_Date        134950 non-null  datetime64[ns]\n",
      " 3   Genre            134950 non-null  object        \n",
      "dtypes: datetime64[ns](2), object(2)\n",
      "memory usage: 5.1+ MB\n"
     ]
    }
   ],
   "source": [
    "# Converting date to datetime objects for time manipulation and EDA\n",
    "r4['First_Play_Date'] = pd.to_datetime(r4['First_Play_Date'])\n",
    "r4['Play_Date'] = pd.to_datetime(r4['Play_Date'])\n",
    "r4.info()"
   ]
  },
  {
   "cell_type": "code",
   "execution_count": 45,
   "id": "923137c5",
   "metadata": {
    "ExecuteTime": {
     "end_time": "2021-06-04T21:19:02.371742Z",
     "start_time": "2021-06-04T21:19:02.348804Z"
    }
   },
   "outputs": [
    {
     "data": {
      "text/html": [
       "<div>\n",
       "<style scoped>\n",
       "    .dataframe tbody tr th:only-of-type {\n",
       "        vertical-align: middle;\n",
       "    }\n",
       "\n",
       "    .dataframe tbody tr th {\n",
       "        vertical-align: top;\n",
       "    }\n",
       "\n",
       "    .dataframe thead th {\n",
       "        text-align: right;\n",
       "    }\n",
       "</style>\n",
       "<table border=\"1\" class=\"dataframe\">\n",
       "  <thead>\n",
       "    <tr style=\"text-align: right;\">\n",
       "      <th></th>\n",
       "      <th>ID</th>\n",
       "      <th>First_Play_Date</th>\n",
       "      <th>Play_Date</th>\n",
       "      <th>Genre</th>\n",
       "    </tr>\n",
       "  </thead>\n",
       "  <tbody>\n",
       "    <tr>\n",
       "      <th>0</th>\n",
       "      <td>ASP-122a358d-be37-49bf-98ea-402ccfe33898-26768...</td>\n",
       "      <td>2015-01-08</td>\n",
       "      <td>2015-01-08</td>\n",
       "      <td>Discovery</td>\n",
       "    </tr>\n",
       "    <tr>\n",
       "      <th>1</th>\n",
       "      <td>ASP-122a358d-be37-49bf-98ea-402ccfe33898-26768...</td>\n",
       "      <td>2015-01-08</td>\n",
       "      <td>2015-01-08</td>\n",
       "      <td>Discovery</td>\n",
       "    </tr>\n",
       "    <tr>\n",
       "      <th>2</th>\n",
       "      <td>ASP-122a358d-be37-49bf-98ea-402ccfe33898-26768...</td>\n",
       "      <td>2015-01-08</td>\n",
       "      <td>2015-01-08</td>\n",
       "      <td>Discovery</td>\n",
       "    </tr>\n",
       "    <tr>\n",
       "      <th>3</th>\n",
       "      <td>ASP-122a358d-be37-49bf-98ea-402ccfe33898-26768...</td>\n",
       "      <td>2015-01-08</td>\n",
       "      <td>2015-01-08</td>\n",
       "      <td>Discovery</td>\n",
       "    </tr>\n",
       "    <tr>\n",
       "      <th>4</th>\n",
       "      <td>ASP-122a358d-be37-49bf-98ea-402ccfe33898-26768...</td>\n",
       "      <td>2015-01-08</td>\n",
       "      <td>2015-01-08</td>\n",
       "      <td>Discovery</td>\n",
       "    </tr>\n",
       "  </tbody>\n",
       "</table>\n",
       "</div>"
      ],
      "text/plain": [
       "                                                  ID First_Play_Date  \\\n",
       "0  ASP-122a358d-be37-49bf-98ea-402ccfe33898-26768...      2015-01-08   \n",
       "1  ASP-122a358d-be37-49bf-98ea-402ccfe33898-26768...      2015-01-08   \n",
       "2  ASP-122a358d-be37-49bf-98ea-402ccfe33898-26768...      2015-01-08   \n",
       "3  ASP-122a358d-be37-49bf-98ea-402ccfe33898-26768...      2015-01-08   \n",
       "4  ASP-122a358d-be37-49bf-98ea-402ccfe33898-26768...      2015-01-08   \n",
       "\n",
       "   Play_Date      Genre  \n",
       "0 2015-01-08  Discovery  \n",
       "1 2015-01-08  Discovery  \n",
       "2 2015-01-08  Discovery  \n",
       "3 2015-01-08  Discovery  \n",
       "4 2015-01-08  Discovery  "
      ]
     },
     "execution_count": 45,
     "metadata": {},
     "output_type": "execute_result"
    }
   ],
   "source": [
    "# Confirming final dataframe shape and attributes\n",
    "r4.head()"
   ]
  },
  {
   "cell_type": "markdown",
   "id": "a0e11783",
   "metadata": {},
   "source": [
    "## Feature Engineering"
   ]
  },
  {
   "cell_type": "code",
   "execution_count": 128,
   "id": "542f00ab",
   "metadata": {
    "ExecuteTime": {
     "end_time": "2021-06-04T23:20:40.691236Z",
     "start_time": "2021-06-04T23:20:40.623916Z"
    }
   },
   "outputs": [],
   "source": [
    "# Creating new columns to track numerical data of games played by genre, by play date \n",
    "r4['bullseye_plays'] = np.where((r4['Genre'] == 'Bullseye'), 1, 0)\n",
    "r4['discovery_plays'] = np.where((r4['Genre'] == 'Discovery'), 1, 0)\n",
    "r4['fingerprint_plays'] = np.where((r4['Genre'] == 'Fingerprint'), 1, 0)\n",
    "r4['mashboard_plays'] = np.where((r4['Genre'] == 'Mashboard'), 1, 0)\n",
    "r4['product_plays'] = np.where((r4['Genre'] == 'Product'), 1, 0)\n",
    "r4['spider_plays'] = np.where((r4['Genre'] == 'Spider'), 1, 0)"
   ]
  },
  {
   "cell_type": "code",
   "execution_count": 129,
   "id": "3b5554db",
   "metadata": {
    "ExecuteTime": {
     "end_time": "2021-06-04T23:20:42.984097Z",
     "start_time": "2021-06-04T23:20:42.973138Z"
    }
   },
   "outputs": [
    {
     "data": {
      "text/html": [
       "<div>\n",
       "<style scoped>\n",
       "    .dataframe tbody tr th:only-of-type {\n",
       "        vertical-align: middle;\n",
       "    }\n",
       "\n",
       "    .dataframe tbody tr th {\n",
       "        vertical-align: top;\n",
       "    }\n",
       "\n",
       "    .dataframe thead th {\n",
       "        text-align: right;\n",
       "    }\n",
       "</style>\n",
       "<table border=\"1\" class=\"dataframe\">\n",
       "  <thead>\n",
       "    <tr style=\"text-align: right;\">\n",
       "      <th></th>\n",
       "      <th>ID</th>\n",
       "      <th>First_Play_Date</th>\n",
       "      <th>Play_Date</th>\n",
       "      <th>Genre</th>\n",
       "      <th>bullseye_plays</th>\n",
       "      <th>discovery_plays</th>\n",
       "      <th>fingerprint_plays</th>\n",
       "      <th>mashboard_plays</th>\n",
       "      <th>product_plays</th>\n",
       "      <th>spider_plays</th>\n",
       "    </tr>\n",
       "  </thead>\n",
       "  <tbody>\n",
       "    <tr>\n",
       "      <th>0</th>\n",
       "      <td>ASP-122a358d-be37-49bf-98ea-402ccfe33898-26768-6d9d2b9c3e3cdc8e7a57d5f851e7faf44163f8d</td>\n",
       "      <td>2015-01-08</td>\n",
       "      <td>2015-01-08</td>\n",
       "      <td>Discovery</td>\n",
       "      <td>0</td>\n",
       "      <td>1</td>\n",
       "      <td>0</td>\n",
       "      <td>0</td>\n",
       "      <td>0</td>\n",
       "      <td>0</td>\n",
       "    </tr>\n",
       "    <tr>\n",
       "      <th>1</th>\n",
       "      <td>ASP-122a358d-be37-49bf-98ea-402ccfe33898-26768-6d9d2b9c3e3cdc8e7a57d5f851e7faf44163f8d</td>\n",
       "      <td>2015-01-08</td>\n",
       "      <td>2015-01-08</td>\n",
       "      <td>Discovery</td>\n",
       "      <td>0</td>\n",
       "      <td>1</td>\n",
       "      <td>0</td>\n",
       "      <td>0</td>\n",
       "      <td>0</td>\n",
       "      <td>0</td>\n",
       "    </tr>\n",
       "    <tr>\n",
       "      <th>2</th>\n",
       "      <td>ASP-122a358d-be37-49bf-98ea-402ccfe33898-26768-6d9d2b9c3e3cdc8e7a57d5f851e7faf44163f8d</td>\n",
       "      <td>2015-01-08</td>\n",
       "      <td>2015-01-08</td>\n",
       "      <td>Discovery</td>\n",
       "      <td>0</td>\n",
       "      <td>1</td>\n",
       "      <td>0</td>\n",
       "      <td>0</td>\n",
       "      <td>0</td>\n",
       "      <td>0</td>\n",
       "    </tr>\n",
       "    <tr>\n",
       "      <th>3</th>\n",
       "      <td>ASP-122a358d-be37-49bf-98ea-402ccfe33898-26768-6d9d2b9c3e3cdc8e7a57d5f851e7faf44163f8d</td>\n",
       "      <td>2015-01-08</td>\n",
       "      <td>2015-01-08</td>\n",
       "      <td>Discovery</td>\n",
       "      <td>0</td>\n",
       "      <td>1</td>\n",
       "      <td>0</td>\n",
       "      <td>0</td>\n",
       "      <td>0</td>\n",
       "      <td>0</td>\n",
       "    </tr>\n",
       "    <tr>\n",
       "      <th>4</th>\n",
       "      <td>ASP-122a358d-be37-49bf-98ea-402ccfe33898-26768-6d9d2b9c3e3cdc8e7a57d5f851e7faf44163f8d</td>\n",
       "      <td>2015-01-08</td>\n",
       "      <td>2015-01-08</td>\n",
       "      <td>Discovery</td>\n",
       "      <td>0</td>\n",
       "      <td>1</td>\n",
       "      <td>0</td>\n",
       "      <td>0</td>\n",
       "      <td>0</td>\n",
       "      <td>0</td>\n",
       "    </tr>\n",
       "  </tbody>\n",
       "</table>\n",
       "</div>"
      ],
      "text/plain": [
       "                                                                                       ID  \\\n",
       "0  ASP-122a358d-be37-49bf-98ea-402ccfe33898-26768-6d9d2b9c3e3cdc8e7a57d5f851e7faf44163f8d   \n",
       "1  ASP-122a358d-be37-49bf-98ea-402ccfe33898-26768-6d9d2b9c3e3cdc8e7a57d5f851e7faf44163f8d   \n",
       "2  ASP-122a358d-be37-49bf-98ea-402ccfe33898-26768-6d9d2b9c3e3cdc8e7a57d5f851e7faf44163f8d   \n",
       "3  ASP-122a358d-be37-49bf-98ea-402ccfe33898-26768-6d9d2b9c3e3cdc8e7a57d5f851e7faf44163f8d   \n",
       "4  ASP-122a358d-be37-49bf-98ea-402ccfe33898-26768-6d9d2b9c3e3cdc8e7a57d5f851e7faf44163f8d   \n",
       "\n",
       "  First_Play_Date  Play_Date      Genre  bullseye_plays  discovery_plays  \\\n",
       "0      2015-01-08 2015-01-08  Discovery               0                1   \n",
       "1      2015-01-08 2015-01-08  Discovery               0                1   \n",
       "2      2015-01-08 2015-01-08  Discovery               0                1   \n",
       "3      2015-01-08 2015-01-08  Discovery               0                1   \n",
       "4      2015-01-08 2015-01-08  Discovery               0                1   \n",
       "\n",
       "   fingerprint_plays  mashboard_plays  product_plays  spider_plays  \n",
       "0                  0                0              0             0  \n",
       "1                  0                0              0             0  \n",
       "2                  0                0              0             0  \n",
       "3                  0                0              0             0  \n",
       "4                  0                0              0             0  "
      ]
     },
     "execution_count": 129,
     "metadata": {},
     "output_type": "execute_result"
    }
   ],
   "source": [
    "r4.head()"
   ]
  },
  {
   "cell_type": "markdown",
   "id": "35c5260d",
   "metadata": {},
   "source": [
    "## EDA"
   ]
  },
  {
   "cell_type": "code",
   "execution_count": 53,
   "id": "f8e85c76",
   "metadata": {
    "ExecuteTime": {
     "end_time": "2021-06-04T21:29:09.586729Z",
     "start_time": "2021-06-04T21:29:09.548830Z"
    }
   },
   "outputs": [
    {
     "name": "stdout",
     "output_type": "stream",
     "text": [
      "Number of unique users is: 2798\n",
      "Number of unique genres is: 6\n"
     ]
    }
   ],
   "source": [
    "# Checking the unique number of IDs, thus the count of client-side access\n",
    "unique_users = len(pd.unique(r4['ID']))\n",
    "print(f'Number of unique users is: {unique_users}')\n",
    "\n",
    "# Checking the unique number of Genres\n",
    "unique_genres = len(pd.unique(r4['Genre']))\n",
    "print(f'Number of unique genres is: {unique_genres}')"
   ]
  },
  {
   "cell_type": "code",
   "execution_count": 112,
   "id": "2279a482",
   "metadata": {
    "ExecuteTime": {
     "end_time": "2021-06-04T22:51:15.761184Z",
     "start_time": "2021-06-04T22:51:15.744201Z"
    }
   },
   "outputs": [
    {
     "data": {
      "text/plain": [
       "array(['2015-01-07T00:00:00.000000000', '2015-01-08T00:00:00.000000000',\n",
       "       '2015-01-09T00:00:00.000000000', '2015-01-10T00:00:00.000000000',\n",
       "       '2015-01-11T00:00:00.000000000', '2015-01-12T00:00:00.000000000',\n",
       "       '2015-01-13T00:00:00.000000000'], dtype='datetime64[ns]')"
      ]
     },
     "execution_count": 112,
     "metadata": {},
     "output_type": "execute_result"
    }
   ],
   "source": [
    "# Checking the First Play Date values in the dataframe\n",
    "np.sort(r4['First_Play_Date'].unique())"
   ]
  },
  {
   "cell_type": "code",
   "execution_count": 113,
   "id": "2214f125",
   "metadata": {
    "ExecuteTime": {
     "end_time": "2021-06-04T22:52:20.617609Z",
     "start_time": "2021-06-04T22:52:20.604616Z"
    }
   },
   "outputs": [
    {
     "data": {
      "text/plain": [
       "array(['2015-01-07T00:00:00.000000000', '2015-01-08T00:00:00.000000000',\n",
       "       '2015-01-09T00:00:00.000000000', '2015-01-10T00:00:00.000000000',\n",
       "       '2015-01-11T00:00:00.000000000', '2015-01-12T00:00:00.000000000',\n",
       "       '2015-01-13T00:00:00.000000000', '2015-01-14T00:00:00.000000000',\n",
       "       '2015-01-15T00:00:00.000000000', '2015-01-16T00:00:00.000000000',\n",
       "       '2015-01-17T00:00:00.000000000', '2015-01-18T00:00:00.000000000',\n",
       "       '2015-01-19T00:00:00.000000000', '2015-01-20T00:00:00.000000000',\n",
       "       '2015-01-21T00:00:00.000000000', '2015-01-22T00:00:00.000000000',\n",
       "       '2015-01-23T00:00:00.000000000', '2015-01-24T00:00:00.000000000',\n",
       "       '2015-01-25T00:00:00.000000000', '2015-01-26T00:00:00.000000000',\n",
       "       '2015-01-27T00:00:00.000000000', '2015-01-28T00:00:00.000000000',\n",
       "       '2015-01-29T00:00:00.000000000', '2015-01-30T00:00:00.000000000',\n",
       "       '2015-01-31T00:00:00.000000000', '2015-02-01T00:00:00.000000000',\n",
       "       '2015-02-02T00:00:00.000000000', '2015-02-03T00:00:00.000000000',\n",
       "       '2015-02-04T00:00:00.000000000', '2015-02-05T00:00:00.000000000',\n",
       "       '2015-02-06T00:00:00.000000000', '2015-02-07T00:00:00.000000000',\n",
       "       '2015-02-08T00:00:00.000000000', '2015-02-09T00:00:00.000000000'],\n",
       "      dtype='datetime64[ns]')"
      ]
     },
     "execution_count": 113,
     "metadata": {},
     "output_type": "execute_result"
    }
   ],
   "source": [
    "# Checking the Subsequent Play Date values in the dataframe\n",
    "np.sort(r4['Play_Date'].unique())"
   ]
  },
  {
   "cell_type": "code",
   "execution_count": 122,
   "id": "133a2150",
   "metadata": {
    "ExecuteTime": {
     "end_time": "2021-06-04T23:09:39.859015Z",
     "start_time": "2021-06-04T23:09:39.797571Z"
    },
    "scrolled": true
   },
   "outputs": [
    {
     "data": {
      "text/html": [
       "<div>\n",
       "<style scoped>\n",
       "    .dataframe tbody tr th:only-of-type {\n",
       "        vertical-align: middle;\n",
       "    }\n",
       "\n",
       "    .dataframe tbody tr th {\n",
       "        vertical-align: top;\n",
       "    }\n",
       "\n",
       "    .dataframe thead th {\n",
       "        text-align: right;\n",
       "    }\n",
       "</style>\n",
       "<table border=\"1\" class=\"dataframe\">\n",
       "  <thead>\n",
       "    <tr style=\"text-align: right;\">\n",
       "      <th></th>\n",
       "      <th>count</th>\n",
       "      <th>unique</th>\n",
       "      <th>top</th>\n",
       "      <th>freq</th>\n",
       "    </tr>\n",
       "    <tr>\n",
       "      <th>Genre</th>\n",
       "      <th></th>\n",
       "      <th></th>\n",
       "      <th></th>\n",
       "      <th></th>\n",
       "    </tr>\n",
       "  </thead>\n",
       "  <tbody>\n",
       "    <tr>\n",
       "      <th>Bullseye</th>\n",
       "      <td>1183</td>\n",
       "      <td>435</td>\n",
       "      <td>SBD-405445b7-d087-463f-9d84-3ec48774cbc2-1110-a06646e4f44358aa17a4903ae565f833ef679e5</td>\n",
       "      <td>36</td>\n",
       "    </tr>\n",
       "    <tr>\n",
       "      <th>Discovery</th>\n",
       "      <td>105489</td>\n",
       "      <td>2519</td>\n",
       "      <td>WMT-eb43dc75-8c60-487c-9615-4e750042a0e3-26930-7f412b5358c1bbab7a1b8356f2794c7ee30fc26</td>\n",
       "      <td>1077</td>\n",
       "    </tr>\n",
       "    <tr>\n",
       "      <th>Fingerprint</th>\n",
       "      <td>21802</td>\n",
       "      <td>1959</td>\n",
       "      <td>ONG-47ee5eef-b687-4707-bf58-2c7bc094041f-29682-93665e4dc033e944a854d5755e29d4a4262f3d1</td>\n",
       "      <td>174</td>\n",
       "    </tr>\n",
       "    <tr>\n",
       "      <th>Mashboard</th>\n",
       "      <td>2339</td>\n",
       "      <td>592</td>\n",
       "      <td>P158-4a478455-dcaf-4c4f-b325-fecb7a161b20-25-a70dee78befeec153f04b80b6b9088f45577856</td>\n",
       "      <td>48</td>\n",
       "    </tr>\n",
       "    <tr>\n",
       "      <th>Product</th>\n",
       "      <td>2711</td>\n",
       "      <td>451</td>\n",
       "      <td>P158-9fc39447-ef30-4e95-8f3c-73aa5e991169-421-b556d2b8b3e195395eb5ab1a17c907165e85da4</td>\n",
       "      <td>78</td>\n",
       "    </tr>\n",
       "    <tr>\n",
       "      <th>Spider</th>\n",
       "      <td>1426</td>\n",
       "      <td>609</td>\n",
       "      <td>P158-81ee652f-623a-4a49-8abb-b907933b1916-3158-9a9b530229916d9e2a491eaa16f171d22ddd6c7</td>\n",
       "      <td>39</td>\n",
       "    </tr>\n",
       "  </tbody>\n",
       "</table>\n",
       "</div>"
      ],
      "text/plain": [
       "              count unique  \\\n",
       "Genre                        \n",
       "Bullseye       1183    435   \n",
       "Discovery    105489   2519   \n",
       "Fingerprint   21802   1959   \n",
       "Mashboard      2339    592   \n",
       "Product        2711    451   \n",
       "Spider         1426    609   \n",
       "\n",
       "                                                                                                top  \\\n",
       "Genre                                                                                                 \n",
       "Bullseye      SBD-405445b7-d087-463f-9d84-3ec48774cbc2-1110-a06646e4f44358aa17a4903ae565f833ef679e5   \n",
       "Discovery    WMT-eb43dc75-8c60-487c-9615-4e750042a0e3-26930-7f412b5358c1bbab7a1b8356f2794c7ee30fc26   \n",
       "Fingerprint  ONG-47ee5eef-b687-4707-bf58-2c7bc094041f-29682-93665e4dc033e944a854d5755e29d4a4262f3d1   \n",
       "Mashboard      P158-4a478455-dcaf-4c4f-b325-fecb7a161b20-25-a70dee78befeec153f04b80b6b9088f45577856   \n",
       "Product       P158-9fc39447-ef30-4e95-8f3c-73aa5e991169-421-b556d2b8b3e195395eb5ab1a17c907165e85da4   \n",
       "Spider       P158-81ee652f-623a-4a49-8abb-b907933b1916-3158-9a9b530229916d9e2a491eaa16f171d22ddd6c7   \n",
       "\n",
       "             freq  \n",
       "Genre              \n",
       "Bullseye       36  \n",
       "Discovery    1077  \n",
       "Fingerprint   174  \n",
       "Mashboard      48  \n",
       "Product        78  \n",
       "Spider         39  "
      ]
     },
     "execution_count": 122,
     "metadata": {},
     "output_type": "execute_result"
    }
   ],
   "source": [
    "# Exploring the spread of genres across users\n",
    "r4.groupby('Genre')['ID'].describe()"
   ]
  },
  {
   "cell_type": "code",
   "execution_count": 74,
   "id": "c9eedcea",
   "metadata": {
    "ExecuteTime": {
     "end_time": "2021-06-04T22:10:50.274096Z",
     "start_time": "2021-06-04T22:10:50.244175Z"
    }
   },
   "outputs": [
    {
     "data": {
      "text/plain": [
       "Genre\n",
       "Bullseye         1183\n",
       "Discovery      105489\n",
       "Fingerprint     21802\n",
       "Mashboard        2339\n",
       "Product          2711\n",
       "Spider           1426\n",
       "Name: ID, dtype: int64"
      ]
     },
     "execution_count": 74,
     "metadata": {},
     "output_type": "execute_result"
    }
   ],
   "source": [
    "# Viewing grouping of genre play counts by ID\n",
    "r4.groupby('Genre')['ID'].count()"
   ]
  },
  {
   "cell_type": "code",
   "execution_count": 117,
   "id": "e8d55b93",
   "metadata": {
    "ExecuteTime": {
     "end_time": "2021-06-04T23:04:02.054141Z",
     "start_time": "2021-06-04T23:04:01.914167Z"
    }
   },
   "outputs": [
    {
     "data": {
      "text/html": [
       "<div>\n",
       "<style scoped>\n",
       "    .dataframe tbody tr th:only-of-type {\n",
       "        vertical-align: middle;\n",
       "    }\n",
       "\n",
       "    .dataframe tbody tr th {\n",
       "        vertical-align: top;\n",
       "    }\n",
       "\n",
       "    .dataframe thead th {\n",
       "        text-align: right;\n",
       "    }\n",
       "</style>\n",
       "<table border=\"1\" class=\"dataframe\">\n",
       "  <thead>\n",
       "    <tr style=\"text-align: right;\">\n",
       "      <th></th>\n",
       "      <th>count</th>\n",
       "      <th>unique</th>\n",
       "      <th>top</th>\n",
       "      <th>freq</th>\n",
       "      <th>first</th>\n",
       "      <th>last</th>\n",
       "    </tr>\n",
       "    <tr>\n",
       "      <th>Genre</th>\n",
       "      <th></th>\n",
       "      <th></th>\n",
       "      <th></th>\n",
       "      <th></th>\n",
       "      <th></th>\n",
       "      <th></th>\n",
       "    </tr>\n",
       "  </thead>\n",
       "  <tbody>\n",
       "    <tr>\n",
       "      <th>Bullseye</th>\n",
       "      <td>1183</td>\n",
       "      <td>7</td>\n",
       "      <td>2015-01-13</td>\n",
       "      <td>208</td>\n",
       "      <td>2015-01-07</td>\n",
       "      <td>2015-01-13</td>\n",
       "    </tr>\n",
       "    <tr>\n",
       "      <th>Discovery</th>\n",
       "      <td>105489</td>\n",
       "      <td>7</td>\n",
       "      <td>2015-01-07</td>\n",
       "      <td>20247</td>\n",
       "      <td>2015-01-07</td>\n",
       "      <td>2015-01-13</td>\n",
       "    </tr>\n",
       "    <tr>\n",
       "      <th>Fingerprint</th>\n",
       "      <td>21802</td>\n",
       "      <td>7</td>\n",
       "      <td>2015-01-07</td>\n",
       "      <td>3639</td>\n",
       "      <td>2015-01-07</td>\n",
       "      <td>2015-01-13</td>\n",
       "    </tr>\n",
       "    <tr>\n",
       "      <th>Mashboard</th>\n",
       "      <td>2339</td>\n",
       "      <td>7</td>\n",
       "      <td>2015-01-07</td>\n",
       "      <td>451</td>\n",
       "      <td>2015-01-07</td>\n",
       "      <td>2015-01-13</td>\n",
       "    </tr>\n",
       "    <tr>\n",
       "      <th>Product</th>\n",
       "      <td>2711</td>\n",
       "      <td>7</td>\n",
       "      <td>2015-01-09</td>\n",
       "      <td>440</td>\n",
       "      <td>2015-01-07</td>\n",
       "      <td>2015-01-13</td>\n",
       "    </tr>\n",
       "  </tbody>\n",
       "</table>\n",
       "</div>"
      ],
      "text/plain": [
       "              count unique        top   freq      first       last\n",
       "Genre                                                             \n",
       "Bullseye       1183      7 2015-01-13    208 2015-01-07 2015-01-13\n",
       "Discovery    105489      7 2015-01-07  20247 2015-01-07 2015-01-13\n",
       "Fingerprint   21802      7 2015-01-07   3639 2015-01-07 2015-01-13\n",
       "Mashboard      2339      7 2015-01-07    451 2015-01-07 2015-01-13\n",
       "Product        2711      7 2015-01-09    440 2015-01-07 2015-01-13"
      ]
     },
     "execution_count": 117,
     "metadata": {},
     "output_type": "execute_result"
    }
   ],
   "source": [
    "# View first initial play dates by daily breakdown\n",
    "daily_first_play = r4.groupby('Genre')['First_Play_Date'].describe()\n",
    "daily_first_play.head()"
   ]
  },
  {
   "cell_type": "code",
   "execution_count": 120,
   "id": "10bfbe99",
   "metadata": {
    "ExecuteTime": {
     "end_time": "2021-06-04T23:06:28.218620Z",
     "start_time": "2021-06-04T23:06:28.173712Z"
    }
   },
   "outputs": [
    {
     "data": {
      "text/html": [
       "<div>\n",
       "<style scoped>\n",
       "    .dataframe tbody tr th:only-of-type {\n",
       "        vertical-align: middle;\n",
       "    }\n",
       "\n",
       "    .dataframe tbody tr th {\n",
       "        vertical-align: top;\n",
       "    }\n",
       "\n",
       "    .dataframe thead th {\n",
       "        text-align: right;\n",
       "    }\n",
       "</style>\n",
       "<table border=\"1\" class=\"dataframe\">\n",
       "  <thead>\n",
       "    <tr style=\"text-align: right;\">\n",
       "      <th></th>\n",
       "      <th>count</th>\n",
       "      <th>unique</th>\n",
       "      <th>top</th>\n",
       "      <th>freq</th>\n",
       "      <th>first</th>\n",
       "      <th>last</th>\n",
       "    </tr>\n",
       "    <tr>\n",
       "      <th>Genre</th>\n",
       "      <th></th>\n",
       "      <th></th>\n",
       "      <th></th>\n",
       "      <th></th>\n",
       "      <th></th>\n",
       "      <th></th>\n",
       "    </tr>\n",
       "  </thead>\n",
       "  <tbody>\n",
       "    <tr>\n",
       "      <th>Bullseye</th>\n",
       "      <td>1183</td>\n",
       "      <td>34</td>\n",
       "      <td>2015-01-15</td>\n",
       "      <td>83</td>\n",
       "      <td>2015-01-07</td>\n",
       "      <td>2015-02-09</td>\n",
       "    </tr>\n",
       "    <tr>\n",
       "      <th>Discovery</th>\n",
       "      <td>105489</td>\n",
       "      <td>34</td>\n",
       "      <td>2015-01-14</td>\n",
       "      <td>6325</td>\n",
       "      <td>2015-01-07</td>\n",
       "      <td>2015-02-09</td>\n",
       "    </tr>\n",
       "    <tr>\n",
       "      <th>Fingerprint</th>\n",
       "      <td>21802</td>\n",
       "      <td>34</td>\n",
       "      <td>2015-01-13</td>\n",
       "      <td>1392</td>\n",
       "      <td>2015-01-07</td>\n",
       "      <td>2015-02-09</td>\n",
       "    </tr>\n",
       "    <tr>\n",
       "      <th>Mashboard</th>\n",
       "      <td>2339</td>\n",
       "      <td>34</td>\n",
       "      <td>2015-01-13</td>\n",
       "      <td>178</td>\n",
       "      <td>2015-01-07</td>\n",
       "      <td>2015-02-09</td>\n",
       "    </tr>\n",
       "    <tr>\n",
       "      <th>Product</th>\n",
       "      <td>2711</td>\n",
       "      <td>34</td>\n",
       "      <td>2015-01-10</td>\n",
       "      <td>212</td>\n",
       "      <td>2015-01-07</td>\n",
       "      <td>2015-02-09</td>\n",
       "    </tr>\n",
       "  </tbody>\n",
       "</table>\n",
       "</div>"
      ],
      "text/plain": [
       "              count unique        top  freq      first       last\n",
       "Genre                                                            \n",
       "Bullseye       1183     34 2015-01-15    83 2015-01-07 2015-02-09\n",
       "Discovery    105489     34 2015-01-14  6325 2015-01-07 2015-02-09\n",
       "Fingerprint   21802     34 2015-01-13  1392 2015-01-07 2015-02-09\n",
       "Mashboard      2339     34 2015-01-13   178 2015-01-07 2015-02-09\n",
       "Product        2711     34 2015-01-10   212 2015-01-07 2015-02-09"
      ]
     },
     "execution_count": 120,
     "metadata": {},
     "output_type": "execute_result"
    }
   ],
   "source": [
    "# View daily breakdown of first and last play dates\n",
    "daily_plays = r4.groupby('Genre')['Play_Date'].describe()\n",
    "daily_plays.head()"
   ]
  },
  {
   "cell_type": "code",
   "execution_count": 198,
   "id": "5b0df8e6",
   "metadata": {
    "ExecuteTime": {
     "end_time": "2021-06-05T01:44:12.529638Z",
     "start_time": "2021-06-05T01:44:12.493735Z"
    },
    "scrolled": true
   },
   "outputs": [
    {
     "data": {
      "text/html": [
       "<div>\n",
       "<style scoped>\n",
       "    .dataframe tbody tr th:only-of-type {\n",
       "        vertical-align: middle;\n",
       "    }\n",
       "\n",
       "    .dataframe tbody tr th {\n",
       "        vertical-align: top;\n",
       "    }\n",
       "\n",
       "    .dataframe thead th {\n",
       "        text-align: right;\n",
       "    }\n",
       "</style>\n",
       "<table border=\"1\" class=\"dataframe\">\n",
       "  <thead>\n",
       "    <tr style=\"text-align: right;\">\n",
       "      <th></th>\n",
       "      <th>First_Play_Date</th>\n",
       "      <th>bullseye_plays</th>\n",
       "      <th>discovery_plays</th>\n",
       "      <th>fingerprint_plays</th>\n",
       "      <th>mashboard_plays</th>\n",
       "      <th>product_plays</th>\n",
       "      <th>spider_plays</th>\n",
       "    </tr>\n",
       "  </thead>\n",
       "  <tbody>\n",
       "    <tr>\n",
       "      <th>0</th>\n",
       "      <td>2015-01-07</td>\n",
       "      <td>176</td>\n",
       "      <td>20247</td>\n",
       "      <td>3639</td>\n",
       "      <td>451</td>\n",
       "      <td>353</td>\n",
       "      <td>268</td>\n",
       "    </tr>\n",
       "    <tr>\n",
       "      <th>1</th>\n",
       "      <td>2015-01-08</td>\n",
       "      <td>174</td>\n",
       "      <td>15027</td>\n",
       "      <td>3221</td>\n",
       "      <td>362</td>\n",
       "      <td>396</td>\n",
       "      <td>209</td>\n",
       "    </tr>\n",
       "    <tr>\n",
       "      <th>2</th>\n",
       "      <td>2015-01-09</td>\n",
       "      <td>110</td>\n",
       "      <td>12309</td>\n",
       "      <td>3042</td>\n",
       "      <td>260</td>\n",
       "      <td>440</td>\n",
       "      <td>160</td>\n",
       "    </tr>\n",
       "    <tr>\n",
       "      <th>3</th>\n",
       "      <td>2015-01-10</td>\n",
       "      <td>151</td>\n",
       "      <td>12282</td>\n",
       "      <td>2895</td>\n",
       "      <td>389</td>\n",
       "      <td>407</td>\n",
       "      <td>168</td>\n",
       "    </tr>\n",
       "    <tr>\n",
       "      <th>4</th>\n",
       "      <td>2015-01-11</td>\n",
       "      <td>172</td>\n",
       "      <td>11711</td>\n",
       "      <td>2333</td>\n",
       "      <td>267</td>\n",
       "      <td>402</td>\n",
       "      <td>132</td>\n",
       "    </tr>\n",
       "  </tbody>\n",
       "</table>\n",
       "</div>"
      ],
      "text/plain": [
       "  First_Play_Date  bullseye_plays  discovery_plays  fingerprint_plays  \\\n",
       "0      2015-01-07             176            20247               3639   \n",
       "1      2015-01-08             174            15027               3221   \n",
       "2      2015-01-09             110            12309               3042   \n",
       "3      2015-01-10             151            12282               2895   \n",
       "4      2015-01-11             172            11711               2333   \n",
       "\n",
       "   mashboard_plays  product_plays  spider_plays  \n",
       "0              451            353           268  \n",
       "1              362            396           209  \n",
       "2              260            440           160  \n",
       "3              389            407           168  \n",
       "4              267            402           132  "
      ]
     },
     "execution_count": 198,
     "metadata": {},
     "output_type": "execute_result"
    }
   ],
   "source": [
    "# View first play dates by genre breakdown\n",
    "daily_genre = r4.groupby('First_Play_Date')['bullseye_plays','discovery_plays','fingerprint_plays','mashboard_plays',\\\n",
    "    'product_plays','spider_plays'].sum().reset_index()\n",
    "daily_genre.head()"
   ]
  },
  {
   "cell_type": "code",
   "execution_count": 202,
   "id": "c22c1e05",
   "metadata": {
    "ExecuteTime": {
     "end_time": "2021-06-05T01:44:39.399851Z",
     "start_time": "2021-06-05T01:44:39.355966Z"
    }
   },
   "outputs": [
    {
     "data": {
      "text/html": [
       "<div>\n",
       "<style scoped>\n",
       "    .dataframe tbody tr th:only-of-type {\n",
       "        vertical-align: middle;\n",
       "    }\n",
       "\n",
       "    .dataframe tbody tr th {\n",
       "        vertical-align: top;\n",
       "    }\n",
       "\n",
       "    .dataframe thead th {\n",
       "        text-align: right;\n",
       "    }\n",
       "</style>\n",
       "<table border=\"1\" class=\"dataframe\">\n",
       "  <thead>\n",
       "    <tr style=\"text-align: right;\">\n",
       "      <th></th>\n",
       "      <th>bullseye_plays</th>\n",
       "      <th>discovery_plays</th>\n",
       "      <th>fingerprint_plays</th>\n",
       "      <th>mashboard_plays</th>\n",
       "      <th>product_plays</th>\n",
       "      <th>spider_plays</th>\n",
       "    </tr>\n",
       "    <tr>\n",
       "      <th>Play_Date</th>\n",
       "      <th></th>\n",
       "      <th></th>\n",
       "      <th></th>\n",
       "      <th></th>\n",
       "      <th></th>\n",
       "      <th></th>\n",
       "    </tr>\n",
       "  </thead>\n",
       "  <tbody>\n",
       "    <tr>\n",
       "      <th>2015-01-07</th>\n",
       "      <td>10</td>\n",
       "      <td>1069</td>\n",
       "      <td>198</td>\n",
       "      <td>17</td>\n",
       "      <td>27</td>\n",
       "      <td>14</td>\n",
       "    </tr>\n",
       "    <tr>\n",
       "      <th>2015-01-08</th>\n",
       "      <td>34</td>\n",
       "      <td>2524</td>\n",
       "      <td>547</td>\n",
       "      <td>104</td>\n",
       "      <td>110</td>\n",
       "      <td>32</td>\n",
       "    </tr>\n",
       "    <tr>\n",
       "      <th>2015-01-09</th>\n",
       "      <td>38</td>\n",
       "      <td>3148</td>\n",
       "      <td>769</td>\n",
       "      <td>147</td>\n",
       "      <td>119</td>\n",
       "      <td>39</td>\n",
       "    </tr>\n",
       "    <tr>\n",
       "      <th>2015-01-10</th>\n",
       "      <td>45</td>\n",
       "      <td>3769</td>\n",
       "      <td>1087</td>\n",
       "      <td>129</td>\n",
       "      <td>212</td>\n",
       "      <td>27</td>\n",
       "    </tr>\n",
       "    <tr>\n",
       "      <th>2015-01-11</th>\n",
       "      <td>43</td>\n",
       "      <td>4133</td>\n",
       "      <td>931</td>\n",
       "      <td>100</td>\n",
       "      <td>159</td>\n",
       "      <td>27</td>\n",
       "    </tr>\n",
       "  </tbody>\n",
       "</table>\n",
       "</div>"
      ],
      "text/plain": [
       "            bullseye_plays  discovery_plays  fingerprint_plays  \\\n",
       "Play_Date                                                        \n",
       "2015-01-07              10             1069                198   \n",
       "2015-01-08              34             2524                547   \n",
       "2015-01-09              38             3148                769   \n",
       "2015-01-10              45             3769               1087   \n",
       "2015-01-11              43             4133                931   \n",
       "\n",
       "            mashboard_plays  product_plays  spider_plays  \n",
       "Play_Date                                                 \n",
       "2015-01-07               17             27            14  \n",
       "2015-01-08              104            110            32  \n",
       "2015-01-09              147            119            39  \n",
       "2015-01-10              129            212            27  \n",
       "2015-01-11              100            159            27  "
      ]
     },
     "execution_count": 202,
     "metadata": {},
     "output_type": "execute_result"
    }
   ],
   "source": [
    "# View first play dates by genre breakdown\n",
    "# Index is kept in order to reset for the timeseries object later\n",
    "sub_daily_genre = r4.groupby('Play_Date')['bullseye_plays','discovery_plays','fingerprint_plays','mashboard_plays',\\\n",
    "    'product_plays','spider_plays'].sum()\n",
    "sub_daily_genre.head()"
   ]
  },
  {
   "cell_type": "code",
   "execution_count": 200,
   "id": "f3713d6a",
   "metadata": {
    "ExecuteTime": {
     "end_time": "2021-06-05T01:44:19.176989Z",
     "start_time": "2021-06-05T01:44:19.139090Z"
    },
    "scrolled": true
   },
   "outputs": [
    {
     "data": {
      "text/html": [
       "<div>\n",
       "<style scoped>\n",
       "    .dataframe tbody tr th:only-of-type {\n",
       "        vertical-align: middle;\n",
       "    }\n",
       "\n",
       "    .dataframe tbody tr th {\n",
       "        vertical-align: top;\n",
       "    }\n",
       "\n",
       "    .dataframe thead th {\n",
       "        text-align: right;\n",
       "    }\n",
       "</style>\n",
       "<table border=\"1\" class=\"dataframe\">\n",
       "  <thead>\n",
       "    <tr style=\"text-align: right;\">\n",
       "      <th></th>\n",
       "      <th></th>\n",
       "      <th>bullseye_plays</th>\n",
       "      <th>discovery_plays</th>\n",
       "      <th>fingerprint_plays</th>\n",
       "      <th>mashboard_plays</th>\n",
       "      <th>product_plays</th>\n",
       "      <th>spider_plays</th>\n",
       "    </tr>\n",
       "    <tr>\n",
       "      <th>First_Play_Date</th>\n",
       "      <th>Play_Date</th>\n",
       "      <th></th>\n",
       "      <th></th>\n",
       "      <th></th>\n",
       "      <th></th>\n",
       "      <th></th>\n",
       "      <th></th>\n",
       "    </tr>\n",
       "  </thead>\n",
       "  <tbody>\n",
       "    <tr>\n",
       "      <th rowspan=\"10\" valign=\"top\">2015-01-07</th>\n",
       "      <th>2015-01-07</th>\n",
       "      <td>10</td>\n",
       "      <td>1069</td>\n",
       "      <td>198</td>\n",
       "      <td>17</td>\n",
       "      <td>27</td>\n",
       "      <td>14</td>\n",
       "    </tr>\n",
       "    <tr>\n",
       "      <th>2015-01-08</th>\n",
       "      <td>27</td>\n",
       "      <td>1798</td>\n",
       "      <td>366</td>\n",
       "      <td>78</td>\n",
       "      <td>60</td>\n",
       "      <td>22</td>\n",
       "    </tr>\n",
       "    <tr>\n",
       "      <th>2015-01-09</th>\n",
       "      <td>14</td>\n",
       "      <td>1238</td>\n",
       "      <td>222</td>\n",
       "      <td>45</td>\n",
       "      <td>24</td>\n",
       "      <td>8</td>\n",
       "    </tr>\n",
       "    <tr>\n",
       "      <th>2015-01-10</th>\n",
       "      <td>12</td>\n",
       "      <td>1084</td>\n",
       "      <td>200</td>\n",
       "      <td>24</td>\n",
       "      <td>3</td>\n",
       "      <td>5</td>\n",
       "    </tr>\n",
       "    <tr>\n",
       "      <th>2015-01-11</th>\n",
       "      <td>6</td>\n",
       "      <td>900</td>\n",
       "      <td>143</td>\n",
       "      <td>19</td>\n",
       "      <td>18</td>\n",
       "      <td>4</td>\n",
       "    </tr>\n",
       "    <tr>\n",
       "      <th>2015-01-12</th>\n",
       "      <td>23</td>\n",
       "      <td>752</td>\n",
       "      <td>139</td>\n",
       "      <td>9</td>\n",
       "      <td>14</td>\n",
       "      <td>0</td>\n",
       "    </tr>\n",
       "    <tr>\n",
       "      <th>2015-01-13</th>\n",
       "      <td>8</td>\n",
       "      <td>767</td>\n",
       "      <td>190</td>\n",
       "      <td>7</td>\n",
       "      <td>19</td>\n",
       "      <td>0</td>\n",
       "    </tr>\n",
       "    <tr>\n",
       "      <th>2015-01-14</th>\n",
       "      <td>3</td>\n",
       "      <td>802</td>\n",
       "      <td>157</td>\n",
       "      <td>20</td>\n",
       "      <td>10</td>\n",
       "      <td>7</td>\n",
       "    </tr>\n",
       "    <tr>\n",
       "      <th>2015-01-15</th>\n",
       "      <td>4</td>\n",
       "      <td>721</td>\n",
       "      <td>124</td>\n",
       "      <td>11</td>\n",
       "      <td>13</td>\n",
       "      <td>9</td>\n",
       "    </tr>\n",
       "    <tr>\n",
       "      <th>2015-01-16</th>\n",
       "      <td>4</td>\n",
       "      <td>659</td>\n",
       "      <td>114</td>\n",
       "      <td>10</td>\n",
       "      <td>9</td>\n",
       "      <td>10</td>\n",
       "    </tr>\n",
       "  </tbody>\n",
       "</table>\n",
       "</div>"
      ],
      "text/plain": [
       "                            bullseye_plays  discovery_plays  \\\n",
       "First_Play_Date Play_Date                                     \n",
       "2015-01-07      2015-01-07              10             1069   \n",
       "                2015-01-08              27             1798   \n",
       "                2015-01-09              14             1238   \n",
       "                2015-01-10              12             1084   \n",
       "                2015-01-11               6              900   \n",
       "                2015-01-12              23              752   \n",
       "                2015-01-13               8              767   \n",
       "                2015-01-14               3              802   \n",
       "                2015-01-15               4              721   \n",
       "                2015-01-16               4              659   \n",
       "\n",
       "                            fingerprint_plays  mashboard_plays  product_plays  \\\n",
       "First_Play_Date Play_Date                                                       \n",
       "2015-01-07      2015-01-07                198               17             27   \n",
       "                2015-01-08                366               78             60   \n",
       "                2015-01-09                222               45             24   \n",
       "                2015-01-10                200               24              3   \n",
       "                2015-01-11                143               19             18   \n",
       "                2015-01-12                139                9             14   \n",
       "                2015-01-13                190                7             19   \n",
       "                2015-01-14                157               20             10   \n",
       "                2015-01-15                124               11             13   \n",
       "                2015-01-16                114               10              9   \n",
       "\n",
       "                            spider_plays  \n",
       "First_Play_Date Play_Date                 \n",
       "2015-01-07      2015-01-07            14  \n",
       "                2015-01-08            22  \n",
       "                2015-01-09             8  \n",
       "                2015-01-10             5  \n",
       "                2015-01-11             4  \n",
       "                2015-01-12             0  \n",
       "                2015-01-13             0  \n",
       "                2015-01-14             7  \n",
       "                2015-01-15             9  \n",
       "                2015-01-16            10  "
      ]
     },
     "execution_count": 200,
     "metadata": {},
     "output_type": "execute_result"
    }
   ],
   "source": [
    "# View total play frequency accounting for first and subsequent plays\n",
    "play_freq = r4.groupby(['First_Play_Date', 'Play_Date'])['bullseye_plays','discovery_plays','fingerprint_plays','mashboard_plays',\\\n",
    "    'product_plays','spider_plays'].sum()\n",
    "play_freq.head(10)"
   ]
  },
  {
   "cell_type": "code",
   "execution_count": 203,
   "id": "4690dfc2",
   "metadata": {
    "ExecuteTime": {
     "end_time": "2021-06-05T01:44:52.787875Z",
     "start_time": "2021-06-05T01:44:52.766905Z"
    }
   },
   "outputs": [
    {
     "data": {
      "text/html": [
       "<div>\n",
       "<style scoped>\n",
       "    .dataframe tbody tr th:only-of-type {\n",
       "        vertical-align: middle;\n",
       "    }\n",
       "\n",
       "    .dataframe tbody tr th {\n",
       "        vertical-align: top;\n",
       "    }\n",
       "\n",
       "    .dataframe thead th {\n",
       "        text-align: right;\n",
       "    }\n",
       "</style>\n",
       "<table border=\"1\" class=\"dataframe\">\n",
       "  <thead>\n",
       "    <tr style=\"text-align: right;\">\n",
       "      <th></th>\n",
       "      <th>Play_Date</th>\n",
       "      <th>bullseye_plays</th>\n",
       "      <th>discovery_plays</th>\n",
       "      <th>fingerprint_plays</th>\n",
       "      <th>mashboard_plays</th>\n",
       "      <th>product_plays</th>\n",
       "      <th>spider_plays</th>\n",
       "    </tr>\n",
       "  </thead>\n",
       "  <tbody>\n",
       "    <tr>\n",
       "      <th>0</th>\n",
       "      <td>2015-01-11</td>\n",
       "      <td>170</td>\n",
       "      <td>14643</td>\n",
       "      <td>3532</td>\n",
       "      <td>497</td>\n",
       "      <td>627</td>\n",
       "      <td>139</td>\n",
       "    </tr>\n",
       "    <tr>\n",
       "      <th>1</th>\n",
       "      <td>2015-01-18</td>\n",
       "      <td>388</td>\n",
       "      <td>35775</td>\n",
       "      <td>6681</td>\n",
       "      <td>742</td>\n",
       "      <td>866</td>\n",
       "      <td>313</td>\n",
       "    </tr>\n",
       "    <tr>\n",
       "      <th>2</th>\n",
       "      <td>2015-01-25</td>\n",
       "      <td>280</td>\n",
       "      <td>24200</td>\n",
       "      <td>4442</td>\n",
       "      <td>433</td>\n",
       "      <td>531</td>\n",
       "      <td>400</td>\n",
       "    </tr>\n",
       "    <tr>\n",
       "      <th>3</th>\n",
       "      <td>2015-02-01</td>\n",
       "      <td>189</td>\n",
       "      <td>19350</td>\n",
       "      <td>4058</td>\n",
       "      <td>336</td>\n",
       "      <td>352</td>\n",
       "      <td>408</td>\n",
       "    </tr>\n",
       "    <tr>\n",
       "      <th>4</th>\n",
       "      <td>2015-02-08</td>\n",
       "      <td>154</td>\n",
       "      <td>11173</td>\n",
       "      <td>3006</td>\n",
       "      <td>317</td>\n",
       "      <td>323</td>\n",
       "      <td>157</td>\n",
       "    </tr>\n",
       "  </tbody>\n",
       "</table>\n",
       "</div>"
      ],
      "text/plain": [
       "   Play_Date  bullseye_plays  discovery_plays  fingerprint_plays  \\\n",
       "0 2015-01-11             170            14643               3532   \n",
       "1 2015-01-18             388            35775               6681   \n",
       "2 2015-01-25             280            24200               4442   \n",
       "3 2015-02-01             189            19350               4058   \n",
       "4 2015-02-08             154            11173               3006   \n",
       "\n",
       "   mashboard_plays  product_plays  spider_plays  \n",
       "0              497            627           139  \n",
       "1              742            866           313  \n",
       "2              433            531           400  \n",
       "3              336            352           408  \n",
       "4              317            323           157  "
      ]
     },
     "execution_count": 203,
     "metadata": {},
     "output_type": "execute_result"
    }
   ],
   "source": [
    "# View first play dates by genre breakdown\n",
    "genre_weekly = sub_daily_genre.resample('W').sum().reset_index()\n",
    "genre_weekly.head()"
   ]
  },
  {
   "cell_type": "markdown",
   "id": "b4346a04",
   "metadata": {},
   "source": [
    "## Visualizations"
   ]
  },
  {
   "cell_type": "markdown",
   "id": "080eaf90",
   "metadata": {},
   "source": [
    "### Initial Play Rates"
   ]
  },
  {
   "cell_type": "code",
   "execution_count": 207,
   "id": "8666e5a1",
   "metadata": {
    "ExecuteTime": {
     "end_time": "2021-06-05T02:01:42.915696Z",
     "start_time": "2021-06-05T02:01:42.532749Z"
    }
   },
   "outputs": [
    {
     "data": {
      "image/png": "[encoded data removed]",
      "text/plain": [
       "<Figure size 720x360 with 1 Axes>"
      ]
     },
     "metadata": {
      "needs_background": "light"
     },
     "output_type": "display_data"
    }
   ],
   "source": [
    "# Visualizing rate of initial plays for each genre\n",
    "\n",
    "fig, ax = plt.subplots(figsize = (10, 5))\n",
    "\n",
    "sns.lineplot(data = daily_genre)\n",
    "ax.set_ylabel('Play Amount')\n",
    "ax.set_title('Initial Plays by Genre')\n",
    "# plt.savefig('img/initial_plays_genre.png');\n",
    ";"
   ]
  },
  {
   "cell_type": "markdown",
   "id": "2f6a8502",
   "metadata": {},
   "source": [
    "### Subsequent Play Rates"
   ]
  },
  {
   "cell_type": "code",
   "execution_count": 208,
   "id": "fac5429d",
   "metadata": {
    "ExecuteTime": {
     "end_time": "2021-06-05T02:02:38.406470Z",
     "start_time": "2021-06-05T02:02:37.914926Z"
    }
   },
   "outputs": [
    {
     "data": {
      "text/plain": [
       "''"
      ]
     },
     "execution_count": 208,
     "metadata": {},
     "output_type": "execute_result"
    },
    {
     "data": {
      "image/png": "[encoded data removed]",
      "text/plain": [
       "<Figure size 720x360 with 1 Axes>"
      ]
     },
     "metadata": {
      "needs_background": "light"
     },
     "output_type": "display_data"
    }
   ],
   "source": [
    "# Visualizing rate of secondary plays for each genre\n",
    "# Reset the index here under a new variable to avoid issues later with the timeseries object\n",
    "sub_index = sub_daily_genre.reset_index()\n",
    "labels = sub_index['Play_Date']\n",
    "fig, ax = plt.subplots(figsize = (10, 5))\n",
    "\n",
    "sns.lineplot(data = sub_daily_genre)\n",
    "ax.set_ylabel('Play Amount')\n",
    "ax.set_xticklabels(labels, rotation = 45)\n",
    "ax.set_title('Subsequent Plays by Genre')\n",
    "# plt.savefig('img/sub_plays_genre.png');\n",
    ";"
   ]
  },
  {
   "cell_type": "markdown",
   "id": "be5c6907",
   "metadata": {},
   "source": [
    "### Users by Genre"
   ]
  },
  {
   "cell_type": "code",
   "execution_count": 210,
   "id": "f0e6f1e0",
   "metadata": {
    "ExecuteTime": {
     "end_time": "2021-06-05T02:03:20.788674Z",
     "start_time": "2021-06-05T02:03:20.641016Z"
    }
   },
   "outputs": [
    {
     "data": {
      "text/plain": [
       "''"
      ]
     },
     "execution_count": 210,
     "metadata": {},
     "output_type": "execute_result"
    },
    {
     "data": {
      "image/png": "[encoded data removed]",
      "text/plain": [
       "<Figure size 432x288 with 1 Axes>"
      ]
     },
     "metadata": {
      "needs_background": "light"
     },
     "output_type": "display_data"
    }
   ],
   "source": [
    "# Visualization of Users by Genre\n",
    "genre_vals = r4.groupby('Genre')['ID'].count().values\n",
    "genre_vis = ['Bullseye', 'Discovery', 'Fingerprint', 'Mashboard', 'Product', 'Spider']\n",
    "\n",
    "fig, ax = plt.subplots()\n",
    "sns.barplot(x = genre_vis, y = genre_vals, palette = 'YlGnBu')\n",
    "\n",
    "ax.set_xlabel('Genres')\n",
    "ax.set_ylabel('Plays')\n",
    "ax.set_title('Plays by Genre')\n",
    "# plt.savefig('img/plays_by_genre.png');\n",
    ";"
   ]
  },
  {
   "cell_type": "markdown",
   "id": "bf83a68f",
   "metadata": {},
   "source": [
    "### 3D Plot of Genre Play Dates"
   ]
  },
  {
   "cell_type": "code",
   "execution_count": 101,
   "id": "79e1320e",
   "metadata": {
    "ExecuteTime": {
     "end_time": "2021-06-04T22:42:34.142999Z",
     "start_time": "2021-06-04T22:42:34.062239Z"
    }
   },
   "outputs": [
    {
     "data": {
      "application/vnd.plotly.v1+json": {
       "config": {
        "plotlyServerURL": "https://plot.ly"
       },
       "data": [
        {
         "hovertemplate": "x=%{x}<br>y=%{y}<br>z=%{z}<br>color=%{marker.color}<extra></extra>",
         "legendgroup": "",
         "marker": {
          "color": [
           1183,
           105489,
           21802,
           2339,
           2711,
           1426
          ],
          "coloraxis": "coloraxis",
          "opacity": 0.6,
          "symbol": "circle"
         },
         "mode": "markers",
         "name": "",
         "scene": "scene",
         "showlegend": false,
         "type": "scatter3d",
         "x": [
          "Bullseye",
          "Discovery",
          "Fingerprint",
          "Mashboard",
          "Product",
          "Spider"
         ],
         "y": [
          1183,
          105489,
          21802,
          2339,
          2711,
          1426
         ],
         "z": [
          1183,
          105489,
          21802,
          2339,
          2711,
          1426
         ]
        }
       ],
       "layout": {
        "coloraxis": {
         "colorbar": {
          "title": {
           "text": "color"
          }
         },
         "colorscale": [
          [
           0,
           "rgb(0,0,131)"
          ],
          [
           0.2,
           "rgb(0,60,170)"
          ],
          [
           0.4,
           "rgb(5,255,255)"
          ],
          [
           0.6,
           "rgb(255,255,0)"
          ],
          [
           0.8,
           "rgb(250,0,0)"
          ],
          [
           1,
           "rgb(128,0,0)"
          ]
         ]
        },
        "legend": {
         "tracegroupgap": 0
        },
        "margin": {
         "b": 0,
         "l": 0,
         "r": 0,
         "t": 0
        },
        "scene": {
         "domain": {
          "x": [
           0,
           1
          ],
          "y": [
           0,
           1
          ]
         },
         "xaxis": {
          "title": {
           "text": "x"
          }
         },
         "yaxis": {
          "title": {
           "text": "y"
          }
         },
         "zaxis": {
          "title": {
           "text": "z"
          }
         }
        },
        "template": {
         "data": {
          "bar": [
           {
            "error_x": {
             "color": "#2a3f5f"
            },
            "error_y": {
             "color": "#2a3f5f"
            },
            "marker": {
             "line": {
              "color": "#E5ECF6",
              "width": 0.5
             }
            },
            "type": "bar"
           }
          ],
          "barpolar": [
           {
            "marker": {
             "line": {
              "color": "#E5ECF6",
              "width": 0.5
             }
            },
            "type": "barpolar"
           }
          ],
          "carpet": [
           {
            "aaxis": {
             "endlinecolor": "#2a3f5f",
             "gridcolor": "white",
             "linecolor": "white",
             "minorgridcolor": "white",
             "startlinecolor": "#2a3f5f"
            },
            "baxis": {
             "endlinecolor": "#2a3f5f",
             "gridcolor": "white",
             "linecolor": "white",
             "minorgridcolor": "white",
             "startlinecolor": "#2a3f5f"
            },
            "type": "carpet"
           }
          ],
          "choropleth": [
           {
            "colorbar": {
             "outlinewidth": 0,
             "ticks": ""
            },
            "type": "choropleth"
           }
          ],
          "contour": [
           {
            "colorbar": {
             "outlinewidth": 0,
             "ticks": ""
            },
            "colorscale": [
             [
              0,
              "#0d0887"
             ],
             [
              0.1111111111111111,
              "#46039f"
             ],
             [
              0.2222222222222222,
              "#7201a8"
             ],
             [
              0.3333333333333333,
              "#9c179e"
             ],
             [
              0.4444444444444444,
              "#bd3786"
             ],
             [
              0.5555555555555556,
              "#d8576b"
             ],
             [
              0.6666666666666666,
              "#ed7953"
             ],
             [
              0.7777777777777778,
              "#fb9f3a"
             ],
             [
              0.8888888888888888,
              "#fdca26"
             ],
             [
              1,
              "#f0f921"
             ]
            ],
            "type": "contour"
           }
          ],
          "contourcarpet": [
           {
            "colorbar": {
             "outlinewidth": 0,
             "ticks": ""
            },
            "type": "contourcarpet"
           }
          ],
          "heatmap": [
           {
            "colorbar": {
             "outlinewidth": 0,
             "ticks": ""
            },
            "colorscale": [
             [
              0,
              "#0d0887"
             ],
             [
              0.1111111111111111,
              "#46039f"
             ],
             [
              0.2222222222222222,
              "#7201a8"
             ],
             [
              0.3333333333333333,
              "#9c179e"
             ],
             [
              0.4444444444444444,
              "#bd3786"
             ],
             [
              0.5555555555555556,
              "#d8576b"
             ],
             [
              0.6666666666666666,
              "#ed7953"
             ],
             [
              0.7777777777777778,
              "#fb9f3a"
             ],
             [
              0.8888888888888888,
              "#fdca26"
             ],
             [
              1,
              "#f0f921"
             ]
            ],
            "type": "heatmap"
           }
          ],
          "heatmapgl": [
           {
            "colorbar": {
             "outlinewidth": 0,
             "ticks": ""
            },
            "colorscale": [
             [
              0,
              "#0d0887"
             ],
             [
              0.1111111111111111,
              "#46039f"
             ],
             [
              0.2222222222222222,
              "#7201a8"
             ],
             [
              0.3333333333333333,
              "#9c179e"
             ],
             [
              0.4444444444444444,
              "#bd3786"
             ],
             [
              0.5555555555555556,
              "#d8576b"
             ],
             [
              0.6666666666666666,
              "#ed7953"
             ],
             [
              0.7777777777777778,
              "#fb9f3a"
             ],
             [
              0.8888888888888888,
              "#fdca26"
             ],
             [
              1,
              "#f0f921"
             ]
            ],
            "type": "heatmapgl"
           }
          ],
          "histogram": [
           {
            "marker": {
             "colorbar": {
              "outlinewidth": 0,
              "ticks": ""
             }
            },
            "type": "histogram"
           }
          ],
          "histogram2d": [
           {
            "colorbar": {
             "outlinewidth": 0,
             "ticks": ""
            },
            "colorscale": [
             [
              0,
              "#0d0887"
             ],
             [
              0.1111111111111111,
              "#46039f"
             ],
             [
              0.2222222222222222,
              "#7201a8"
             ],
             [
              0.3333333333333333,
              "#9c179e"
             ],
             [
              0.4444444444444444,
              "#bd3786"
             ],
             [
              0.5555555555555556,
              "#d8576b"
             ],
             [
              0.6666666666666666,
              "#ed7953"
             ],
             [
              0.7777777777777778,
              "#fb9f3a"
             ],
             [
              0.8888888888888888,
              "#fdca26"
             ],
             [
              1,
              "#f0f921"
             ]
            ],
            "type": "histogram2d"
           }
          ],
          "histogram2dcontour": [
           {
            "colorbar": {
             "outlinewidth": 0,
             "ticks": ""
            },
            "colorscale": [
             [
              0,
              "#0d0887"
             ],
             [
              0.1111111111111111,
              "#46039f"
             ],
             [
              0.2222222222222222,
              "#7201a8"
             ],
             [
              0.3333333333333333,
              "#9c179e"
             ],
             [
              0.4444444444444444,
              "#bd3786"
             ],
             [
              0.5555555555555556,
              "#d8576b"
             ],
             [
              0.6666666666666666,
              "#ed7953"
             ],
             [
              0.7777777777777778,
              "#fb9f3a"
             ],
             [
              0.8888888888888888,
              "#fdca26"
             ],
             [
              1,
              "#f0f921"
             ]
            ],
            "type": "histogram2dcontour"
           }
          ],
          "mesh3d": [
           {
            "colorbar": {
             "outlinewidth": 0,
             "ticks": ""
            },
            "type": "mesh3d"
           }
          ],
          "parcoords": [
           {
            "line": {
             "colorbar": {
              "outlinewidth": 0,
              "ticks": ""
             }
            },
            "type": "parcoords"
           }
          ],
          "pie": [
           {
            "automargin": true,
            "type": "pie"
           }
          ],
          "scatter": [
           {
            "marker": {
             "colorbar": {
              "outlinewidth": 0,
              "ticks": ""
             }
            },
            "type": "scatter"
           }
          ],
          "scatter3d": [
           {
            "line": {
             "colorbar": {
              "outlinewidth": 0,
              "ticks": ""
             }
            },
            "marker": {
             "colorbar": {
              "outlinewidth": 0,
              "ticks": ""
             }
            },
            "type": "scatter3d"
           }
          ],
          "scattercarpet": [
           {
            "marker": {
             "colorbar": {
              "outlinewidth": 0,
              "ticks": ""
             }
            },
            "type": "scattercarpet"
           }
          ],
          "scattergeo": [
           {
            "marker": {
             "colorbar": {
              "outlinewidth": 0,
              "ticks": ""
             }
            },
            "type": "scattergeo"
           }
          ],
          "scattergl": [
           {
            "marker": {
             "colorbar": {
              "outlinewidth": 0,
              "ticks": ""
             }
            },
            "type": "scattergl"
           }
          ],
          "scattermapbox": [
           {
            "marker": {
             "colorbar": {
              "outlinewidth": 0,
              "ticks": ""
             }
            },
            "type": "scattermapbox"
           }
          ],
          "scatterpolar": [
           {
            "marker": {
             "colorbar": {
              "outlinewidth": 0,
              "ticks": ""
             }
            },
            "type": "scatterpolar"
           }
          ],
          "scatterpolargl": [
           {
            "marker": {
             "colorbar": {
              "outlinewidth": 0,
              "ticks": ""
             }
            },
            "type": "scatterpolargl"
           }
          ],
          "scatterternary": [
           {
            "marker": {
             "colorbar": {
              "outlinewidth": 0,
              "ticks": ""
             }
            },
            "type": "scatterternary"
           }
          ],
          "surface": [
           {
            "colorbar": {
             "outlinewidth": 0,
             "ticks": ""
            },
            "colorscale": [
             [
              0,
              "#0d0887"
             ],
             [
              0.1111111111111111,
              "#46039f"
             ],
             [
              0.2222222222222222,
              "#7201a8"
             ],
             [
              0.3333333333333333,
              "#9c179e"
             ],
             [
              0.4444444444444444,
              "#bd3786"
             ],
             [
              0.5555555555555556,
              "#d8576b"
             ],
             [
              0.6666666666666666,
              "#ed7953"
             ],
             [
              0.7777777777777778,
              "#fb9f3a"
             ],
             [
              0.8888888888888888,
              "#fdca26"
             ],
             [
              1,
              "#f0f921"
             ]
            ],
            "type": "surface"
           }
          ],
          "table": [
           {
            "cells": {
             "fill": {
              "color": "#EBF0F8"
             },
             "line": {
              "color": "white"
             }
            },
            "header": {
             "fill": {
              "color": "#C8D4E3"
             },
             "line": {
              "color": "white"
             }
            },
            "type": "table"
           }
          ]
         },
         "layout": {
          "annotationdefaults": {
           "arrowcolor": "#2a3f5f",
           "arrowhead": 0,
           "arrowwidth": 1
          },
          "autotypenumbers": "strict",
          "coloraxis": {
           "colorbar": {
            "outlinewidth": 0,
            "ticks": ""
           }
          },
          "colorscale": {
           "diverging": [
            [
             0,
             "#8e0152"
            ],
            [
             0.1,
             "#c51b7d"
            ],
            [
             0.2,
             "#de77ae"
            ],
            [
             0.3,
             "#f1b6da"
            ],
            [
             0.4,
             "#fde0ef"
            ],
            [
             0.5,
             "#f7f7f7"
            ],
            [
             0.6,
             "#e6f5d0"
            ],
            [
             0.7,
             "#b8e186"
            ],
            [
             0.8,
             "#7fbc41"
            ],
            [
             0.9,
             "#4d9221"
            ],
            [
             1,
             "#276419"
            ]
           ],
           "sequential": [
            [
             0,
             "#0d0887"
            ],
            [
             0.1111111111111111,
             "#46039f"
            ],
            [
             0.2222222222222222,
             "#7201a8"
            ],
            [
             0.3333333333333333,
             "#9c179e"
            ],
            [
             0.4444444444444444,
             "#bd3786"
            ],
            [
             0.5555555555555556,
             "#d8576b"
            ],
            [
             0.6666666666666666,
             "#ed7953"
            ],
            [
             0.7777777777777778,
             "#fb9f3a"
            ],
            [
             0.8888888888888888,
             "#fdca26"
            ],
            [
             1,
             "#f0f921"
            ]
           ],
           "sequentialminus": [
            [
             0,
             "#0d0887"
            ],
            [
             0.1111111111111111,
             "#46039f"
            ],
            [
             0.2222222222222222,
             "#7201a8"
            ],
            [
             0.3333333333333333,
             "#9c179e"
            ],
            [
             0.4444444444444444,
             "#bd3786"
            ],
            [
             0.5555555555555556,
             "#d8576b"
            ],
            [
             0.6666666666666666,
             "#ed7953"
            ],
            [
             0.7777777777777778,
             "#fb9f3a"
            ],
            [
             0.8888888888888888,
             "#fdca26"
            ],
            [
             1,
             "#f0f921"
            ]
           ]
          },
          "colorway": [
           "#636efa",
           "#EF553B",
           "#00cc96",
           "#ab63fa",
           "#FFA15A",
           "#19d3f3",
           "#FF6692",
           "#B6E880",
           "#FF97FF",
           "#FECB52"
          ],
          "font": {
           "color": "#2a3f5f"
          },
          "geo": {
           "bgcolor": "white",
           "lakecolor": "white",
           "landcolor": "#E5ECF6",
           "showlakes": true,
           "showland": true,
           "subunitcolor": "white"
          },
          "hoverlabel": {
           "align": "left"
          },
          "hovermode": "closest",
          "mapbox": {
           "style": "light"
          },
          "paper_bgcolor": "white",
          "plot_bgcolor": "#E5ECF6",
          "polar": {
           "angularaxis": {
            "gridcolor": "white",
            "linecolor": "white",
            "ticks": ""
           },
           "bgcolor": "#E5ECF6",
           "radialaxis": {
            "gridcolor": "white",
            "linecolor": "white",
            "ticks": ""
           }
          },
          "scene": {
           "xaxis": {
            "backgroundcolor": "#E5ECF6",
            "gridcolor": "white",
            "gridwidth": 2,
            "linecolor": "white",
            "showbackground": true,
            "ticks": "",
            "zerolinecolor": "white"
           },
           "yaxis": {
            "backgroundcolor": "#E5ECF6",
            "gridcolor": "white",
            "gridwidth": 2,
            "linecolor": "white",
            "showbackground": true,
            "ticks": "",
            "zerolinecolor": "white"
           },
           "zaxis": {
            "backgroundcolor": "#E5ECF6",
            "gridcolor": "white",
            "gridwidth": 2,
            "linecolor": "white",
            "showbackground": true,
            "ticks": "",
            "zerolinecolor": "white"
           }
          },
          "shapedefaults": {
           "line": {
            "color": "#2a3f5f"
           }
          },
          "ternary": {
           "aaxis": {
            "gridcolor": "white",
            "linecolor": "white",
            "ticks": ""
           },
           "baxis": {
            "gridcolor": "white",
            "linecolor": "white",
            "ticks": ""
           },
           "bgcolor": "#E5ECF6",
           "caxis": {
            "gridcolor": "white",
            "linecolor": "white",
            "ticks": ""
           }
          },
          "title": {
           "x": 0.05
          },
          "xaxis": {
           "automargin": true,
           "gridcolor": "white",
           "linecolor": "white",
           "ticks": "",
           "title": {
            "standoff": 15
           },
           "zerolinecolor": "white",
           "zerolinewidth": 2
          },
          "yaxis": {
           "automargin": true,
           "gridcolor": "white",
           "linecolor": "white",
           "ticks": "",
           "title": {
            "standoff": 15
           },
           "zerolinecolor": "white",
           "zerolinewidth": 2
          }
         }
        }
       }
      },
      "text/html": [
       "<div>                            <div id=\"45f8e052-96eb-479d-9840-8ddf2102b78d\" class=\"plotly-graph-div\" style=\"height:525px; width:100%;\"></div>            <script type=\"text/javascript\">                require([\"plotly\"], function(Plotly) {                    window.PLOTLYENV=window.PLOTLYENV || {};                                    if (document.getElementById(\"45f8e052-96eb-479d-9840-8ddf2102b78d\")) {                    Plotly.newPlot(                        \"45f8e052-96eb-479d-9840-8ddf2102b78d\",                        [{\"hovertemplate\": \"x=%{x}<br>y=%{y}<br>z=%{z}<br>color=%{marker.color}<extra></extra>\", \"legendgroup\": \"\", \"marker\": {\"color\": [1183, 105489, 21802, 2339, 2711, 1426], \"coloraxis\": \"coloraxis\", \"opacity\": 0.6, \"symbol\": \"circle\"}, \"mode\": \"markers\", \"name\": \"\", \"scene\": \"scene\", \"showlegend\": false, \"type\": \"scatter3d\", \"x\": [\"Bullseye\", \"Discovery\", \"Fingerprint\", \"Mashboard\", \"Product\", \"Spider\"], \"y\": [1183, 105489, 21802, 2339, 2711, 1426], \"z\": [1183, 105489, 21802, 2339, 2711, 1426]}],                        {\"coloraxis\": {\"colorbar\": {\"title\": {\"text\": \"color\"}}, \"colorscale\": [[0.0, \"rgb(0,0,131)\"], [0.2, \"rgb(0,60,170)\"], [0.4, \"rgb(5,255,255)\"], [0.6, \"rgb(255,255,0)\"], [0.8, \"rgb(250,0,0)\"], [1.0, \"rgb(128,0,0)\"]]}, \"legend\": {\"tracegroupgap\": 0}, \"margin\": {\"b\": 0, \"l\": 0, \"r\": 0, \"t\": 0}, \"scene\": {\"domain\": {\"x\": [0.0, 1.0], \"y\": [0.0, 1.0]}, \"xaxis\": {\"title\": {\"text\": \"x\"}}, \"yaxis\": {\"title\": {\"text\": \"y\"}}, \"zaxis\": {\"title\": {\"text\": \"z\"}}}, \"template\": {\"data\": {\"bar\": [{\"error_x\": {\"color\": \"#2a3f5f\"}, \"error_y\": {\"color\": \"#2a3f5f\"}, \"marker\": {\"line\": {\"color\": \"#E5ECF6\", \"width\": 0.5}}, \"type\": \"bar\"}], \"barpolar\": [{\"marker\": {\"line\": {\"color\": \"#E5ECF6\", \"width\": 0.5}}, \"type\": \"barpolar\"}], \"carpet\": [{\"aaxis\": {\"endlinecolor\": \"#2a3f5f\", \"gridcolor\": \"white\", \"linecolor\": \"white\", \"minorgridcolor\": \"white\", \"startlinecolor\": \"#2a3f5f\"}, \"baxis\": {\"endlinecolor\": \"#2a3f5f\", \"gridcolor\": \"white\", \"linecolor\": \"white\", \"minorgridcolor\": \"white\", \"startlinecolor\": \"#2a3f5f\"}, \"type\": \"carpet\"}], \"choropleth\": [{\"colorbar\": {\"outlinewidth\": 0, \"ticks\": \"\"}, \"type\": \"choropleth\"}], \"contour\": [{\"colorbar\": {\"outlinewidth\": 0, \"ticks\": \"\"}, \"colorscale\": [[0.0, \"#0d0887\"], [0.1111111111111111, \"#46039f\"], [0.2222222222222222, \"#7201a8\"], [0.3333333333333333, \"#9c179e\"], [0.4444444444444444, \"#bd3786\"], [0.5555555555555556, \"#d8576b\"], [0.6666666666666666, \"#ed7953\"], [0.7777777777777778, \"#fb9f3a\"], [0.8888888888888888, \"#fdca26\"], [1.0, \"#f0f921\"]], \"type\": \"contour\"}], \"contourcarpet\": [{\"colorbar\": {\"outlinewidth\": 0, \"ticks\": \"\"}, \"type\": \"contourcarpet\"}], \"heatmap\": [{\"colorbar\": {\"outlinewidth\": 0, \"ticks\": \"\"}, \"colorscale\": [[0.0, \"#0d0887\"], [0.1111111111111111, \"#46039f\"], [0.2222222222222222, \"#7201a8\"], [0.3333333333333333, \"#9c179e\"], [0.4444444444444444, \"#bd3786\"], [0.5555555555555556, \"#d8576b\"], [0.6666666666666666, \"#ed7953\"], [0.7777777777777778, \"#fb9f3a\"], [0.8888888888888888, \"#fdca26\"], [1.0, \"#f0f921\"]], \"type\": \"heatmap\"}], \"heatmapgl\": [{\"colorbar\": {\"outlinewidth\": 0, \"ticks\": \"\"}, \"colorscale\": [[0.0, \"#0d0887\"], [0.1111111111111111, \"#46039f\"], [0.2222222222222222, \"#7201a8\"], [0.3333333333333333, \"#9c179e\"], [0.4444444444444444, \"#bd3786\"], [0.5555555555555556, \"#d8576b\"], [0.6666666666666666, \"#ed7953\"], [0.7777777777777778, \"#fb9f3a\"], [0.8888888888888888, \"#fdca26\"], [1.0, \"#f0f921\"]], \"type\": \"heatmapgl\"}], \"histogram\": [{\"marker\": {\"colorbar\": {\"outlinewidth\": 0, \"ticks\": \"\"}}, \"type\": \"histogram\"}], \"histogram2d\": [{\"colorbar\": {\"outlinewidth\": 0, \"ticks\": \"\"}, \"colorscale\": [[0.0, \"#0d0887\"], [0.1111111111111111, \"#46039f\"], [0.2222222222222222, \"#7201a8\"], [0.3333333333333333, \"#9c179e\"], [0.4444444444444444, \"#bd3786\"], [0.5555555555555556, \"#d8576b\"], [0.6666666666666666, \"#ed7953\"], [0.7777777777777778, \"#fb9f3a\"], [0.8888888888888888, \"#fdca26\"], [1.0, \"#f0f921\"]], \"type\": \"histogram2d\"}], \"histogram2dcontour\": [{\"colorbar\": {\"outlinewidth\": 0, \"ticks\": \"\"}, \"colorscale\": [[0.0, \"#0d0887\"], [0.1111111111111111, \"#46039f\"], [0.2222222222222222, \"#7201a8\"], [0.3333333333333333, \"#9c179e\"], [0.4444444444444444, \"#bd3786\"], [0.5555555555555556, \"#d8576b\"], [0.6666666666666666, \"#ed7953\"], [0.7777777777777778, \"#fb9f3a\"], [0.8888888888888888, \"#fdca26\"], [1.0, \"#f0f921\"]], \"type\": \"histogram2dcontour\"}], \"mesh3d\": [{\"colorbar\": {\"outlinewidth\": 0, \"ticks\": \"\"}, \"type\": \"mesh3d\"}], \"parcoords\": [{\"line\": {\"colorbar\": {\"outlinewidth\": 0, \"ticks\": \"\"}}, \"type\": \"parcoords\"}], \"pie\": [{\"automargin\": true, \"type\": \"pie\"}], \"scatter\": [{\"marker\": {\"colorbar\": {\"outlinewidth\": 0, \"ticks\": \"\"}}, \"type\": \"scatter\"}], \"scatter3d\": [{\"line\": {\"colorbar\": {\"outlinewidth\": 0, \"ticks\": \"\"}}, \"marker\": {\"colorbar\": {\"outlinewidth\": 0, \"ticks\": \"\"}}, \"type\": \"scatter3d\"}], \"scattercarpet\": [{\"marker\": {\"colorbar\": {\"outlinewidth\": 0, \"ticks\": \"\"}}, \"type\": \"scattercarpet\"}], \"scattergeo\": [{\"marker\": {\"colorbar\": {\"outlinewidth\": 0, \"ticks\": \"\"}}, \"type\": \"scattergeo\"}], \"scattergl\": [{\"marker\": {\"colorbar\": {\"outlinewidth\": 0, \"ticks\": \"\"}}, \"type\": \"scattergl\"}], \"scattermapbox\": [{\"marker\": {\"colorbar\": {\"outlinewidth\": 0, \"ticks\": \"\"}}, \"type\": \"scattermapbox\"}], \"scatterpolar\": [{\"marker\": {\"colorbar\": {\"outlinewidth\": 0, \"ticks\": \"\"}}, \"type\": \"scatterpolar\"}], \"scatterpolargl\": [{\"marker\": {\"colorbar\": {\"outlinewidth\": 0, \"ticks\": \"\"}}, \"type\": \"scatterpolargl\"}], \"scatterternary\": [{\"marker\": {\"colorbar\": {\"outlinewidth\": 0, \"ticks\": \"\"}}, \"type\": \"scatterternary\"}], \"surface\": [{\"colorbar\": {\"outlinewidth\": 0, \"ticks\": \"\"}, \"colorscale\": [[0.0, \"#0d0887\"], [0.1111111111111111, \"#46039f\"], [0.2222222222222222, \"#7201a8\"], [0.3333333333333333, \"#9c179e\"], [0.4444444444444444, \"#bd3786\"], [0.5555555555555556, \"#d8576b\"], [0.6666666666666666, \"#ed7953\"], [0.7777777777777778, \"#fb9f3a\"], [0.8888888888888888, \"#fdca26\"], [1.0, \"#f0f921\"]], \"type\": \"surface\"}], \"table\": [{\"cells\": {\"fill\": {\"color\": \"#EBF0F8\"}, \"line\": {\"color\": \"white\"}}, \"header\": {\"fill\": {\"color\": \"#C8D4E3\"}, \"line\": {\"color\": \"white\"}}, \"type\": \"table\"}]}, \"layout\": {\"annotationdefaults\": {\"arrowcolor\": \"#2a3f5f\", \"arrowhead\": 0, \"arrowwidth\": 1}, \"autotypenumbers\": \"strict\", \"coloraxis\": {\"colorbar\": {\"outlinewidth\": 0, \"ticks\": \"\"}}, \"colorscale\": {\"diverging\": [[0, \"#8e0152\"], [0.1, \"#c51b7d\"], [0.2, \"#de77ae\"], [0.3, \"#f1b6da\"], [0.4, \"#fde0ef\"], [0.5, \"#f7f7f7\"], [0.6, \"#e6f5d0\"], [0.7, \"#b8e186\"], [0.8, \"#7fbc41\"], [0.9, \"#4d9221\"], [1, \"#276419\"]], \"sequential\": [[0.0, \"#0d0887\"], [0.1111111111111111, \"#46039f\"], [0.2222222222222222, \"#7201a8\"], [0.3333333333333333, \"#9c179e\"], [0.4444444444444444, \"#bd3786\"], [0.5555555555555556, \"#d8576b\"], [0.6666666666666666, \"#ed7953\"], [0.7777777777777778, \"#fb9f3a\"], [0.8888888888888888, \"#fdca26\"], [1.0, \"#f0f921\"]], \"sequentialminus\": [[0.0, \"#0d0887\"], [0.1111111111111111, \"#46039f\"], [0.2222222222222222, \"#7201a8\"], [0.3333333333333333, \"#9c179e\"], [0.4444444444444444, \"#bd3786\"], [0.5555555555555556, \"#d8576b\"], [0.6666666666666666, \"#ed7953\"], [0.7777777777777778, \"#fb9f3a\"], [0.8888888888888888, \"#fdca26\"], [1.0, \"#f0f921\"]]}, \"colorway\": [\"#636efa\", \"#EF553B\", \"#00cc96\", \"#ab63fa\", \"#FFA15A\", \"#19d3f3\", \"#FF6692\", \"#B6E880\", \"#FF97FF\", \"#FECB52\"], \"font\": {\"color\": \"#2a3f5f\"}, \"geo\": {\"bgcolor\": \"white\", \"lakecolor\": \"white\", \"landcolor\": \"#E5ECF6\", \"showlakes\": true, \"showland\": true, \"subunitcolor\": \"white\"}, \"hoverlabel\": {\"align\": \"left\"}, \"hovermode\": \"closest\", \"mapbox\": {\"style\": \"light\"}, \"paper_bgcolor\": \"white\", \"plot_bgcolor\": \"#E5ECF6\", \"polar\": {\"angularaxis\": {\"gridcolor\": \"white\", \"linecolor\": \"white\", \"ticks\": \"\"}, \"bgcolor\": \"#E5ECF6\", \"radialaxis\": {\"gridcolor\": \"white\", \"linecolor\": \"white\", \"ticks\": \"\"}}, \"scene\": {\"xaxis\": {\"backgroundcolor\": \"#E5ECF6\", \"gridcolor\": \"white\", \"gridwidth\": 2, \"linecolor\": \"white\", \"showbackground\": true, \"ticks\": \"\", \"zerolinecolor\": \"white\"}, \"yaxis\": {\"backgroundcolor\": \"#E5ECF6\", \"gridcolor\": \"white\", \"gridwidth\": 2, \"linecolor\": \"white\", \"showbackground\": true, \"ticks\": \"\", \"zerolinecolor\": \"white\"}, \"zaxis\": {\"backgroundcolor\": \"#E5ECF6\", \"gridcolor\": \"white\", \"gridwidth\": 2, \"linecolor\": \"white\", \"showbackground\": true, \"ticks\": \"\", \"zerolinecolor\": \"white\"}}, \"shapedefaults\": {\"line\": {\"color\": \"#2a3f5f\"}}, \"ternary\": {\"aaxis\": {\"gridcolor\": \"white\", \"linecolor\": \"white\", \"ticks\": \"\"}, \"baxis\": {\"gridcolor\": \"white\", \"linecolor\": \"white\", \"ticks\": \"\"}, \"bgcolor\": \"#E5ECF6\", \"caxis\": {\"gridcolor\": \"white\", \"linecolor\": \"white\", \"ticks\": \"\"}}, \"title\": {\"x\": 0.05}, \"xaxis\": {\"automargin\": true, \"gridcolor\": \"white\", \"linecolor\": \"white\", \"ticks\": \"\", \"title\": {\"standoff\": 15}, \"zerolinecolor\": \"white\", \"zerolinewidth\": 2}, \"yaxis\": {\"automargin\": true, \"gridcolor\": \"white\", \"linecolor\": \"white\", \"ticks\": \"\", \"title\": {\"standoff\": 15}, \"zerolinecolor\": \"white\", \"zerolinewidth\": 2}}}},                        {\"responsive\": true}                    ).then(function(){\n",
       "                            \n",
       "var gd = document.getElementById('45f8e052-96eb-479d-9840-8ddf2102b78d');\n",
       "var x = new MutationObserver(function (mutations, observer) {{\n",
       "        var display = window.getComputedStyle(gd).display;\n",
       "        if (!display || display === 'none') {{\n",
       "            console.log([gd, 'removed!']);\n",
       "            Plotly.purge(gd);\n",
       "            observer.disconnect();\n",
       "        }}\n",
       "}});\n",
       "\n",
       "// Listen for the removal of the full notebook cells\n",
       "var notebookContainer = gd.closest('#notebook-container');\n",
       "if (notebookContainer) {{\n",
       "    x.observe(notebookContainer, {childList: true});\n",
       "}}\n",
       "\n",
       "// Listen for the clearing of the current output cell\n",
       "var outputEl = gd.closest('.output');\n",
       "if (outputEl) {{\n",
       "    x.observe(outputEl, {childList: true});\n",
       "}}\n",
       "\n",
       "                        })                };                });            </script>        </div>"
      ]
     },
     "metadata": {},
     "output_type": "display_data"
    }
   ],
   "source": [
    "# Visualizing Genres by First and subsequent play dates\n",
    "date_genre_group = r4.groupby('Genre')['Play_Date'].count()\n",
    "id_first_play_date = r4.groupby('Genre')['First_Play_Date'].count()\n",
    "\n",
    "fig = px.scatter_3d(r4, x = genre_vis, y = genre_vals, z = id_first_play_date, color = date_genre_group, size_max=18, opacity=0.6,\\\n",
    "                   color_continuous_scale='jet')\n",
    "fig.update_layout(margin=dict(l=0, r=0, b=0, t=0))"
   ]
  },
  {
   "cell_type": "code",
   "execution_count": 211,
   "id": "df05dbd2",
   "metadata": {
    "ExecuteTime": {
     "end_time": "2021-06-05T02:03:49.686874Z",
     "start_time": "2021-06-05T02:03:49.288162Z"
    }
   },
   "outputs": [
    {
     "data": {
      "text/plain": [
       "''"
      ]
     },
     "execution_count": 211,
     "metadata": {},
     "output_type": "execute_result"
    },
    {
     "data": {
      "image/png": "[encoded data removed]",
      "text/plain": [
       "<Figure size 720x360 with 1 Axes>"
      ]
     },
     "metadata": {
      "needs_background": "light"
     },
     "output_type": "display_data"
    }
   ],
   "source": [
    "# Visualizing weekly change rate of initial and secondary plays for each genre\n",
    "labels = genre_weekly['Play_Date']\n",
    "fig, ax = plt.subplots(figsize = (10, 5))\n",
    "\n",
    "sns.lineplot(data = genre_weekly)\n",
    "ax.set_ylabel('Play Amount')\n",
    "ax.set_xticklabels(labels, rotation = 45)\n",
    "ax.set_title('Subsequent Plays by Genre')\n",
    "# plt.savefig('img/weekly_plays_genre.png');\n",
    ";"
   ]
  },
  {
   "cell_type": "code",
   "execution_count": null,
   "id": "80d4bfbe",
   "metadata": {},
   "outputs": [],
   "source": []
  }
 ],
 "metadata": {
  "kernelspec": {
   "display_name": "Python 3",
   "language": "python",
   "name": "python3"
  },
  "language_info": {
   "codemirror_mode": {
    "name": "ipython",
    "version": 3
   },
   "file_extension": ".py",
   "mimetype": "text/x-python",
   "name": "python",
   "nbconvert_exporter": "python",
   "pygments_lexer": "ipython3",
   "version": "3.8.5"
  },
  "toc": {
   "base_numbering": 1,
   "nav_menu": {},
   "number_sections": true,
   "sideBar": true,
   "skip_h1_title": true,
   "title_cell": "Table of Contents",
   "title_sidebar": "Contents",
   "toc_cell": false,
   "toc_position": {
    "height": "calc(100% - 180px)",
    "left": "10px",
    "top": "150px",
    "width": "305.085px"
   },
   "toc_section_display": true,
   "toc_window_display": true
  },
  "varInspector": {
   "cols": {
    "lenName": 16,
    "lenType": 16,
    "lenVar": 40
   },
   "kernels_config": {
    "python": {
     "delete_cmd_postfix": "",
     "delete_cmd_prefix": "del ",
     "library": "var_list.py",
     "varRefreshCmd": "print(var_dic_list())"
    },
    "r": {
     "delete_cmd_postfix": ") ",
     "delete_cmd_prefix": "rm(",
     "library": "var_list.r",
     "varRefreshCmd": "cat(var_dic_list()) "
    }
   },
   "types_to_exclude": [
    "module",
    "function",
    "builtin_function_or_method",
    "instance",
    "_Feature"
   ],
   "window_display": false
  }
 },
 "nbformat": 4,
 "nbformat_minor": 5
}
