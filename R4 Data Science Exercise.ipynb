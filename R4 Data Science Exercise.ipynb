{
 "cells": [
  {
   "cell_type": "code",
   "execution_count": 1,
   "id": "7d8f48ae",
   "metadata": {
    "ExecuteTime": {
     "end_time": "2021-06-04T20:39:06.484089Z",
     "start_time": "2021-06-04T20:38:25.797727Z"
    }
   },
   "outputs": [],
   "source": [
    "# Imports\n",
    "\n",
    "# Primary Imports\n",
    "import pandas as pd\n",
    "import numpy as np\n",
    "import matplotlib.pyplot as plt\n",
    "import plotly.express as px\n",
    "import seaborn as sns\n",
    "import warnings\n",
    "import datetime\n",
    "\n",
    "# Dependency Imports\n",
    "from mpl_toolkits import mplot3d\n",
    "from mpl_toolkits.mplot3d import Axes3D\n",
    "from collections import Counter\n",
    "\n",
    "# Script Imports\n",
    "%matplotlib inline\n",
    "warnings.filterwarnings('ignore')\n",
    "pd.options.display.max_columns = 100"
   ]
  },
  {
   "cell_type": "markdown",
   "id": "a5f5e4c3",
   "metadata": {},
   "source": [
    "# R4 Data Science Exercise\n",
    "Author: Chaz Frazer"
   ]
  },
  {
   "cell_type": "markdown",
   "id": "2d41164b",
   "metadata": {},
   "source": [
    "## Scope"
   ]
  },
  {
   "cell_type": "markdown",
   "id": "0c00930c",
   "metadata": {},
   "source": [
    "#### Data Columns:\n",
    "1. ID (user ID)\n",
    "2. First_Play_Date (date user first used service)\n",
    "3. Play_Date (date of play/stream)\n",
    "4. Genre (genre of portal being played)"
   ]
  },
  {
   "cell_type": "markdown",
   "id": "332355f8",
   "metadata": {},
   "source": [
    "### Questions"
   ]
  },
  {
   "cell_type": "markdown",
   "id": "064f241c",
   "metadata": {},
   "source": [
    "#### Question A:\n",
    "What are some of the first things you notice about this data set? What is in it?"
   ]
  },
  {
   "cell_type": "markdown",
   "id": "bd21386d",
   "metadata": {},
   "source": [
    "#### Question B:\n",
    "Using this data, please answer the question-  does genre usage shift week-to-week (relative to when a user first used the service)?  For example, are users more likely to play Fingerprint during week one of their subscription, but then Mashboard during week 2 and 3? "
   ]
  },
  {
   "cell_type": "markdown",
   "id": "72a8e385",
   "metadata": {},
   "source": [
    "#### Question C:\n",
    "How would you improve the service by improving customer engagement? "
   ]
  },
  {
   "cell_type": "markdown",
   "id": "95d938f0",
   "metadata": {},
   "source": [
    "## Data Import"
   ]
  },
  {
   "cell_type": "code",
   "execution_count": 3,
   "id": "8b503a2a",
   "metadata": {
    "ExecuteTime": {
     "end_time": "2021-06-04T20:44:19.852708Z",
     "start_time": "2021-06-04T20:39:28.667819Z"
    },
    "scrolled": true
   },
   "outputs": [],
   "source": [
    "r4 = pd.read_csv('data/r4_data_exercise.csv', index_col = 0)"
   ]
  },
  {
   "cell_type": "code",
   "execution_count": null,
   "id": "870d4244",
   "metadata": {},
   "outputs": [],
   "source": []
  }
 ],
 "metadata": {
  "kernelspec": {
   "display_name": "Python 3",
   "language": "python",
   "name": "python3"
  },
  "language_info": {
   "codemirror_mode": {
    "name": "ipython",
    "version": 3
   },
   "file_extension": ".py",
   "mimetype": "text/x-python",
   "name": "python",
   "nbconvert_exporter": "python",
   "pygments_lexer": "ipython3",
   "version": "3.8.5"
  },
  "toc": {
   "base_numbering": 1,
   "nav_menu": {},
   "number_sections": true,
   "sideBar": true,
   "skip_h1_title": true,
   "title_cell": "Table of Contents",
   "title_sidebar": "Contents",
   "toc_cell": false,
   "toc_position": {},
   "toc_section_display": true,
   "toc_window_display": false
  },
  "varInspector": {
   "cols": {
    "lenName": 16,
    "lenType": 16,
    "lenVar": 40
   },
   "kernels_config": {
    "python": {
     "delete_cmd_postfix": "",
     "delete_cmd_prefix": "del ",
     "library": "var_list.py",
     "varRefreshCmd": "print(var_dic_list())"
    },
    "r": {
     "delete_cmd_postfix": ") ",
     "delete_cmd_prefix": "rm(",
     "library": "var_list.r",
     "varRefreshCmd": "cat(var_dic_list()) "
    }
   },
   "types_to_exclude": [
    "module",
    "function",
    "builtin_function_or_method",
    "instance",
    "_Feature"
   ],
   "window_display": false
  }
 },
 "nbformat": 4,
 "nbformat_minor": 5
}
